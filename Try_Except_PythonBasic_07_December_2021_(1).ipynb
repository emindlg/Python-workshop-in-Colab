{
  "nbformat": 4,
  "nbformat_minor": 5,
  "metadata": {
    "kernelspec": {
      "display_name": "Python 3",
      "language": "python",
      "name": "python3"
    },
    "language_info": {
      "codemirror_mode": {
        "name": "ipython",
        "version": 3
      },
      "file_extension": ".py",
      "mimetype": "text/x-python",
      "name": "python",
      "nbconvert_exporter": "python",
      "pygments_lexer": "ipython3",
      "version": "3.8.8"
    },
    "colab": {
      "name": "19_PythonBasic_07-December-2021 (1).ipynb",
      "provenance": [],
      "include_colab_link": true
    }
  },
  "cells": [
    {
      "cell_type": "markdown",
      "metadata": {
        "id": "view-in-github",
        "colab_type": "text"
      },
      "source": [
        "<a href=\"https://colab.research.google.com/github/emindlg/Python-workshop-in-Colab/blob/main/Try_Except_PythonBasic_07_December_2021_(1).ipynb\" target=\"_parent\"><img src=\"https://colab.research.google.com/assets/colab-badge.svg\" alt=\"Open In Colab\"/></a>"
      ]
    },
    {
      "cell_type": "markdown",
      "metadata": {
        "id": "406f2981"
      },
      "source": [
        "<img src=\"https://docs.google.com/uc?id=14xeXxFrVRjvOoUYWn_GuyE-v84wVzrqr\" class=\"img-fluid\" alt=\"CLRWY\" width=\"400\" height=\"200\">"
      ],
      "id": "406f2981"
    },
    {
      "cell_type": "markdown",
      "metadata": {
        "id": "22263af8"
      },
      "source": [
        "<h1><p style=\"text-align: center; color:darkblue\">Python In-Class, <br>07 December 2021</p><h1>"
      ],
      "id": "22263af8"
    },
    {
      "cell_type": "code",
      "metadata": {
        "id": "070f089e",
        "outputId": "9c582af8-332c-4951-cdc7-bab2f8cd8fb1"
      },
      "source": [
        "# This is a syntax error\n",
        "\n",
        "print(\"hello\")\n",
        "print(hello"
      ],
      "id": "070f089e",
      "execution_count": null,
      "outputs": [
        {
          "ename": "SyntaxError",
          "evalue": "unexpected EOF while parsing (<ipython-input-3-8b935604b002>, line 2)",
          "output_type": "error",
          "traceback": [
            "\u001b[0;36m  File \u001b[0;32m\"<ipython-input-3-8b935604b002>\"\u001b[0;36m, line \u001b[0;32m2\u001b[0m\n\u001b[0;31m    print(hello\u001b[0m\n\u001b[0m               ^\u001b[0m\n\u001b[0;31mSyntaxError\u001b[0m\u001b[0;31m:\u001b[0m unexpected EOF while parsing\n"
          ]
        }
      ]
    },
    {
      "cell_type": "code",
      "metadata": {
        "id": "f9bbcb5e",
        "outputId": "5a39e553-b485-4803-8036-869be8e960b4"
      },
      "source": [
        "# This is an exception error\n",
        "\n",
        "print(\"hello\")\n",
        "print(hello)"
      ],
      "id": "f9bbcb5e",
      "execution_count": null,
      "outputs": [
        {
          "name": "stdout",
          "output_type": "stream",
          "text": [
            "hello\n"
          ]
        },
        {
          "ename": "NameError",
          "evalue": "name 'hello' is not defined",
          "output_type": "error",
          "traceback": [
            "\u001b[0;31m---------------------------------------------------------------------------\u001b[0m",
            "\u001b[0;31mNameError\u001b[0m                                 Traceback (most recent call last)",
            "\u001b[0;32m<ipython-input-4-1452da38b72a>\u001b[0m in \u001b[0;36m<module>\u001b[0;34m\u001b[0m\n\u001b[1;32m      2\u001b[0m \u001b[0;34m\u001b[0m\u001b[0m\n\u001b[1;32m      3\u001b[0m \u001b[0mprint\u001b[0m\u001b[0;34m(\u001b[0m\u001b[0;34m\"hello\"\u001b[0m\u001b[0;34m)\u001b[0m\u001b[0;34m\u001b[0m\u001b[0;34m\u001b[0m\u001b[0m\n\u001b[0;32m----> 4\u001b[0;31m \u001b[0mprint\u001b[0m\u001b[0;34m(\u001b[0m\u001b[0mhello\u001b[0m\u001b[0;34m)\u001b[0m\u001b[0;34m\u001b[0m\u001b[0;34m\u001b[0m\u001b[0m\n\u001b[0m",
            "\u001b[0;31mNameError\u001b[0m: name 'hello' is not defined"
          ]
        }
      ]
    },
    {
      "cell_type": "code",
      "metadata": {
        "id": "c77e6df5",
        "outputId": "34c4eb12-abc2-4b75-c69a-72369355dc3e"
      },
      "source": [
        "int(\"on\")"
      ],
      "id": "c77e6df5",
      "execution_count": null,
      "outputs": [
        {
          "ename": "ValueError",
          "evalue": "invalid literal for int() with base 10: 'on'",
          "output_type": "error",
          "traceback": [
            "\u001b[0;31m---------------------------------------------------------------------------\u001b[0m",
            "\u001b[0;31mValueError\u001b[0m                                Traceback (most recent call last)",
            "\u001b[0;32m<ipython-input-5-9db2c1f25cfb>\u001b[0m in \u001b[0;36m<module>\u001b[0;34m\u001b[0m\n\u001b[0;32m----> 1\u001b[0;31m \u001b[0mint\u001b[0m\u001b[0;34m(\u001b[0m\u001b[0;34m\"on\"\u001b[0m\u001b[0;34m)\u001b[0m\u001b[0;34m\u001b[0m\u001b[0;34m\u001b[0m\u001b[0m\n\u001b[0m",
            "\u001b[0;31mValueError\u001b[0m: invalid literal for int() with base 10: 'on'"
          ]
        }
      ]
    },
    {
      "cell_type": "code",
      "metadata": {
        "id": "b87e4d27",
        "outputId": "4e9a2f7f-20ae-405e-f804-9e6d19018162"
      },
      "source": [
        "int(\"10\")"
      ],
      "id": "b87e4d27",
      "execution_count": null,
      "outputs": [
        {
          "data": {
            "text/plain": [
              "10"
            ]
          },
          "execution_count": 6,
          "metadata": {},
          "output_type": "execute_result"
        }
      ]
    },
    {
      "cell_type": "code",
      "metadata": {
        "id": "4796b8a9"
      },
      "source": [
        "import math"
      ],
      "id": "4796b8a9",
      "execution_count": null,
      "outputs": []
    },
    {
      "cell_type": "code",
      "metadata": {
        "id": "4c9a95f0",
        "outputId": "0a62de5a-9e79-4326-f7cd-6f8bf396e201"
      },
      "source": [
        "math.sqrt(25)"
      ],
      "id": "4c9a95f0",
      "execution_count": null,
      "outputs": [
        {
          "data": {
            "text/plain": [
              "5.0"
            ]
          },
          "execution_count": 8,
          "metadata": {},
          "output_type": "execute_result"
        }
      ]
    },
    {
      "cell_type": "code",
      "metadata": {
        "id": "12541f1f",
        "outputId": "7fa1c2bc-a1fb-4d6c-a93e-83e00720434c"
      },
      "source": [
        "math.sqrt(-25)"
      ],
      "id": "12541f1f",
      "execution_count": null,
      "outputs": [
        {
          "ename": "ValueError",
          "evalue": "math domain error",
          "output_type": "error",
          "traceback": [
            "\u001b[0;31m---------------------------------------------------------------------------\u001b[0m",
            "\u001b[0;31mValueError\u001b[0m                                Traceback (most recent call last)",
            "\u001b[0;32m<ipython-input-9-d80dea1ee982>\u001b[0m in \u001b[0;36m<module>\u001b[0;34m\u001b[0m\n\u001b[0;32m----> 1\u001b[0;31m \u001b[0mmath\u001b[0m\u001b[0;34m.\u001b[0m\u001b[0msqrt\u001b[0m\u001b[0;34m(\u001b[0m\u001b[0;34m-\u001b[0m\u001b[0;36m25\u001b[0m\u001b[0;34m)\u001b[0m\u001b[0;34m\u001b[0m\u001b[0;34m\u001b[0m\u001b[0m\n\u001b[0m",
            "\u001b[0;31mValueError\u001b[0m: math domain error"
          ]
        }
      ]
    },
    {
      "cell_type": "code",
      "metadata": {
        "id": "25f00c89",
        "outputId": "a3643bfd-ef43-4412-8ad4-ffcde4d023dc"
      },
      "source": [
        "math.factorial(4)"
      ],
      "id": "25f00c89",
      "execution_count": null,
      "outputs": [
        {
          "data": {
            "text/plain": [
              "24"
            ]
          },
          "execution_count": 10,
          "metadata": {},
          "output_type": "execute_result"
        }
      ]
    },
    {
      "cell_type": "code",
      "metadata": {
        "id": "aea37334",
        "outputId": "99a938ea-d12a-4365-e2b2-de88335f3fb2"
      },
      "source": [
        "math.factorial(-4)"
      ],
      "id": "aea37334",
      "execution_count": null,
      "outputs": [
        {
          "ename": "ValueError",
          "evalue": "factorial() not defined for negative values",
          "output_type": "error",
          "traceback": [
            "\u001b[0;31m---------------------------------------------------------------------------\u001b[0m",
            "\u001b[0;31mValueError\u001b[0m                                Traceback (most recent call last)",
            "\u001b[0;32m<ipython-input-11-001ef41ec39f>\u001b[0m in \u001b[0;36m<module>\u001b[0;34m\u001b[0m\n\u001b[0;32m----> 1\u001b[0;31m \u001b[0mmath\u001b[0m\u001b[0;34m.\u001b[0m\u001b[0mfactorial\u001b[0m\u001b[0;34m(\u001b[0m\u001b[0;34m-\u001b[0m\u001b[0;36m4\u001b[0m\u001b[0;34m)\u001b[0m\u001b[0;34m\u001b[0m\u001b[0;34m\u001b[0m\u001b[0m\n\u001b[0m",
            "\u001b[0;31mValueError\u001b[0m: factorial() not defined for negative values"
          ]
        }
      ]
    },
    {
      "cell_type": "code",
      "metadata": {
        "id": "d054afdf",
        "outputId": "eb975494-149b-4040-88d7-8e95712305a2"
      },
      "source": [
        "math.log10(100)"
      ],
      "id": "d054afdf",
      "execution_count": null,
      "outputs": [
        {
          "data": {
            "text/plain": [
              "2.0"
            ]
          },
          "execution_count": 12,
          "metadata": {},
          "output_type": "execute_result"
        }
      ]
    },
    {
      "cell_type": "code",
      "metadata": {
        "id": "2ee6c2ef",
        "outputId": "ab38aa04-7064-4248-abcd-3ae8765b1675"
      },
      "source": [
        "math.log10(-100)"
      ],
      "id": "2ee6c2ef",
      "execution_count": null,
      "outputs": [
        {
          "ename": "ValueError",
          "evalue": "math domain error",
          "output_type": "error",
          "traceback": [
            "\u001b[0;31m---------------------------------------------------------------------------\u001b[0m",
            "\u001b[0;31mValueError\u001b[0m                                Traceback (most recent call last)",
            "\u001b[0;32m<ipython-input-13-a9ce091d703f>\u001b[0m in \u001b[0;36m<module>\u001b[0;34m\u001b[0m\n\u001b[0;32m----> 1\u001b[0;31m \u001b[0mmath\u001b[0m\u001b[0;34m.\u001b[0m\u001b[0mlog10\u001b[0m\u001b[0;34m(\u001b[0m\u001b[0;34m-\u001b[0m\u001b[0;36m100\u001b[0m\u001b[0;34m)\u001b[0m\u001b[0;34m\u001b[0m\u001b[0;34m\u001b[0m\u001b[0m\n\u001b[0m",
            "\u001b[0;31mValueError\u001b[0m: math domain error"
          ]
        }
      ]
    },
    {
      "cell_type": "code",
      "metadata": {
        "id": "7c63a4b1"
      },
      "source": [
        "def my_facto(n) :\n",
        "    \n",
        "    if n == 1 or n == 0 :\n",
        "        return 1\n",
        "    \n",
        "    else :\n",
        "        return n * my_facto(n-1)"
      ],
      "id": "7c63a4b1",
      "execution_count": null,
      "outputs": []
    },
    {
      "cell_type": "code",
      "metadata": {
        "id": "af421023",
        "outputId": "83eedd41-66fa-4555-85c8-c33ad1acbf21"
      },
      "source": [
        "my_facto(4)"
      ],
      "id": "af421023",
      "execution_count": null,
      "outputs": [
        {
          "data": {
            "text/plain": [
              "24"
            ]
          },
          "execution_count": 15,
          "metadata": {},
          "output_type": "execute_result"
        }
      ]
    },
    {
      "cell_type": "code",
      "metadata": {
        "id": "c162b176",
        "outputId": "99cca509-2d51-4d49-b40c-82cc138c1bec"
      },
      "source": [
        "while True:\n",
        "    no_one = int(input(\"The first number please : \"))\n",
        "    no_two = int(input(\"The second number please : \"))\n",
        "    division = no_one / no_two\n",
        "    print(\"The result of the division is : \", division)\n",
        "    break"
      ],
      "id": "c162b176",
      "execution_count": null,
      "outputs": [
        {
          "name": "stdout",
          "output_type": "stream",
          "text": [
            "The first number please : 7\n",
            "The second number please : 1\n",
            "The result of the division is :  7.0\n"
          ]
        }
      ]
    },
    {
      "cell_type": "code",
      "metadata": {
        "id": "6f1c6703",
        "outputId": "d0ff69d4-a752-4425-84ca-df79777eec70"
      },
      "source": [
        "while True:\n",
        "    no_one = int(input(\"The first number please : \"))\n",
        "    no_two = int(input(\"The second number please : \"))\n",
        "    division = no_one / no_two\n",
        "    print(\"The result of the division is : \", division)\n",
        "    break"
      ],
      "id": "6f1c6703",
      "execution_count": null,
      "outputs": [
        {
          "name": "stdout",
          "output_type": "stream",
          "text": [
            "The first number please : 7\n",
            "The second number please : 0\n"
          ]
        },
        {
          "ename": "ZeroDivisionError",
          "evalue": "division by zero",
          "output_type": "error",
          "traceback": [
            "\u001b[0;31m---------------------------------------------------------------------------\u001b[0m",
            "\u001b[0;31mZeroDivisionError\u001b[0m                         Traceback (most recent call last)",
            "\u001b[0;32m<ipython-input-17-71c23077dd83>\u001b[0m in \u001b[0;36m<module>\u001b[0;34m\u001b[0m\n\u001b[1;32m      2\u001b[0m     \u001b[0mno_one\u001b[0m \u001b[0;34m=\u001b[0m \u001b[0mint\u001b[0m\u001b[0;34m(\u001b[0m\u001b[0minput\u001b[0m\u001b[0;34m(\u001b[0m\u001b[0;34m\"The first number please : \"\u001b[0m\u001b[0;34m)\u001b[0m\u001b[0;34m)\u001b[0m\u001b[0;34m\u001b[0m\u001b[0;34m\u001b[0m\u001b[0m\n\u001b[1;32m      3\u001b[0m     \u001b[0mno_two\u001b[0m \u001b[0;34m=\u001b[0m \u001b[0mint\u001b[0m\u001b[0;34m(\u001b[0m\u001b[0minput\u001b[0m\u001b[0;34m(\u001b[0m\u001b[0;34m\"The second number please : \"\u001b[0m\u001b[0;34m)\u001b[0m\u001b[0;34m)\u001b[0m\u001b[0;34m\u001b[0m\u001b[0;34m\u001b[0m\u001b[0m\n\u001b[0;32m----> 4\u001b[0;31m     \u001b[0mdivision\u001b[0m \u001b[0;34m=\u001b[0m \u001b[0mno_one\u001b[0m \u001b[0;34m/\u001b[0m \u001b[0mno_two\u001b[0m\u001b[0;34m\u001b[0m\u001b[0;34m\u001b[0m\u001b[0m\n\u001b[0m\u001b[1;32m      5\u001b[0m     \u001b[0mprint\u001b[0m\u001b[0;34m(\u001b[0m\u001b[0;34m\"The result of the division is : \"\u001b[0m\u001b[0;34m,\u001b[0m \u001b[0mdivision\u001b[0m\u001b[0;34m)\u001b[0m\u001b[0;34m\u001b[0m\u001b[0;34m\u001b[0m\u001b[0m\n\u001b[1;32m      6\u001b[0m     \u001b[0;32mbreak\u001b[0m\u001b[0;34m\u001b[0m\u001b[0;34m\u001b[0m\u001b[0m\n",
            "\u001b[0;31mZeroDivisionError\u001b[0m: division by zero"
          ]
        }
      ]
    },
    {
      "cell_type": "code",
      "metadata": {
        "id": "944c67c4",
        "outputId": "d26cc240-63ce-4b4c-ee46-372f80617176"
      },
      "source": [
        "while True:\n",
        "    no_one = int(input(\"The first number please : \"))\n",
        "    no_two = int(input(\"The second number please : \"))\n",
        "    \n",
        "    try :\n",
        "        division = no_one / no_two\n",
        "        print(\"The result of the division is : \", division)\n",
        "        break\n",
        "    except :\n",
        "        print(\"Something is wrong. enter again\")"
      ],
      "id": "944c67c4",
      "execution_count": null,
      "outputs": [
        {
          "name": "stdout",
          "output_type": "stream",
          "text": [
            "The first number please : 5\n",
            "The second number please : t\n"
          ]
        },
        {
          "ename": "ValueError",
          "evalue": "invalid literal for int() with base 10: 't'",
          "output_type": "error",
          "traceback": [
            "\u001b[0;31m---------------------------------------------------------------------------\u001b[0m",
            "\u001b[0;31mValueError\u001b[0m                                Traceback (most recent call last)",
            "\u001b[0;32m<ipython-input-20-057f015ff1fd>\u001b[0m in \u001b[0;36m<module>\u001b[0;34m\u001b[0m\n\u001b[1;32m      1\u001b[0m \u001b[0;32mwhile\u001b[0m \u001b[0;32mTrue\u001b[0m\u001b[0;34m:\u001b[0m\u001b[0;34m\u001b[0m\u001b[0;34m\u001b[0m\u001b[0m\n\u001b[1;32m      2\u001b[0m     \u001b[0mno_one\u001b[0m \u001b[0;34m=\u001b[0m \u001b[0mint\u001b[0m\u001b[0;34m(\u001b[0m\u001b[0minput\u001b[0m\u001b[0;34m(\u001b[0m\u001b[0;34m\"The first number please : \"\u001b[0m\u001b[0;34m)\u001b[0m\u001b[0;34m)\u001b[0m\u001b[0;34m\u001b[0m\u001b[0;34m\u001b[0m\u001b[0m\n\u001b[0;32m----> 3\u001b[0;31m     \u001b[0mno_two\u001b[0m \u001b[0;34m=\u001b[0m \u001b[0mint\u001b[0m\u001b[0;34m(\u001b[0m\u001b[0minput\u001b[0m\u001b[0;34m(\u001b[0m\u001b[0;34m\"The second number please : \"\u001b[0m\u001b[0;34m)\u001b[0m\u001b[0;34m)\u001b[0m\u001b[0;34m\u001b[0m\u001b[0;34m\u001b[0m\u001b[0m\n\u001b[0m\u001b[1;32m      4\u001b[0m \u001b[0;34m\u001b[0m\u001b[0m\n\u001b[1;32m      5\u001b[0m     \u001b[0;32mtry\u001b[0m \u001b[0;34m:\u001b[0m\u001b[0;34m\u001b[0m\u001b[0;34m\u001b[0m\u001b[0m\n",
            "\u001b[0;31mValueError\u001b[0m: invalid literal for int() with base 10: 't'"
          ]
        }
      ]
    },
    {
      "cell_type": "code",
      "metadata": {
        "id": "588f4c1d",
        "outputId": "767bd44d-28dc-4ba8-9b44-829b1f0c4163"
      },
      "source": [
        "while True:\n",
        "    no_one = int(input(\"The first number please : \"))\n",
        "    no_two = int(input(\"The second number please : \"))\n",
        "    \n",
        "    try :\n",
        "        division = no_one / no_two\n",
        "        print(\"The result of the division is : \", division)\n",
        "        break\n",
        "    except ZeroDivisionError:\n",
        "        print(\"You tried to divide by zero. enter again and dont use zero.\")"
      ],
      "id": "588f4c1d",
      "execution_count": null,
      "outputs": [
        {
          "name": "stdout",
          "output_type": "stream",
          "text": [
            "The first number please : 5\n",
            "The second number please : 0\n",
            "You tried to divide by zero. enter again and dont use zero.\n",
            "The first number please : 6\n",
            "The second number please : 3\n",
            "The result of the division is :  2.0\n"
          ]
        }
      ]
    },
    {
      "cell_type": "code",
      "metadata": {
        "id": "48db7ad4",
        "outputId": "e6215191-cdc4-4ce6-fb1b-f3cfc5aff7b4"
      },
      "source": [
        "4 + \"4\""
      ],
      "id": "48db7ad4",
      "execution_count": null,
      "outputs": [
        {
          "ename": "TypeError",
          "evalue": "unsupported operand type(s) for +: 'int' and 'str'",
          "output_type": "error",
          "traceback": [
            "\u001b[0;31m---------------------------------------------------------------------------\u001b[0m",
            "\u001b[0;31mTypeError\u001b[0m                                 Traceback (most recent call last)",
            "\u001b[0;32m<ipython-input-22-f027878f74dd>\u001b[0m in \u001b[0;36m<module>\u001b[0;34m\u001b[0m\n\u001b[0;32m----> 1\u001b[0;31m \u001b[0;36m4\u001b[0m \u001b[0;34m+\u001b[0m \u001b[0;34m\"4\"\u001b[0m\u001b[0;34m\u001b[0m\u001b[0;34m\u001b[0m\u001b[0m\n\u001b[0m",
            "\u001b[0;31mTypeError\u001b[0m: unsupported operand type(s) for +: 'int' and 'str'"
          ]
        }
      ]
    },
    {
      "cell_type": "code",
      "metadata": {
        "id": "2be3cc46",
        "outputId": "04a70e1d-6760-4268-e957-7193014544b6"
      },
      "source": [
        "try :\n",
        "    print(4 + \"4\")\n",
        "    \n",
        "except :\n",
        "    print(\"muhtemelen yanlış bir şeyler yaptın.\")"
      ],
      "id": "2be3cc46",
      "execution_count": null,
      "outputs": [
        {
          "name": "stdout",
          "output_type": "stream",
          "text": [
            "muhtemelen yanlış bir şeyler yaptın.\n"
          ]
        }
      ]
    },
    {
      "cell_type": "code",
      "metadata": {
        "id": "2661c279",
        "outputId": "6f51a7ce-071e-4756-fb97-36427a08d10d"
      },
      "source": [
        "try :\n",
        "    print(\"4\" + \"4\")\n",
        "    \n",
        "except :\n",
        "    print(\"muhtemelen yanlış bir şeyler yaptın.\")"
      ],
      "id": "2661c279",
      "execution_count": null,
      "outputs": [
        {
          "name": "stdout",
          "output_type": "stream",
          "text": [
            "44\n"
          ]
        }
      ]
    },
    {
      "cell_type": "code",
      "metadata": {
        "id": "a584aa8f",
        "outputId": "f28b34de-916d-4644-d084-c3aa30483d85"
      },
      "source": [
        "try :\n",
        "    file = open(\"my_file.txt\", \"r\")\n",
        "    print(file.read())\n",
        "    file.close()\n",
        "except :\n",
        "    print(\"There is something went wrong\")"
      ],
      "id": "a584aa8f",
      "execution_count": null,
      "outputs": [
        {
          "name": "stdout",
          "output_type": "stream",
          "text": [
            "There is something went wrong\n"
          ]
        }
      ]
    },
    {
      "cell_type": "code",
      "metadata": {
        "id": "52e485b7",
        "outputId": "483e87c3-1e3e-4529-891c-42fa8c9fa4ff"
      },
      "source": [
        "file = open(\"my_file.txt\", \"r\")\n",
        "print(file.read())\n",
        "file.close()"
      ],
      "id": "52e485b7",
      "execution_count": null,
      "outputs": [
        {
          "ename": "FileNotFoundError",
          "evalue": "[Errno 2] No such file or directory: 'my_file.txt'",
          "output_type": "error",
          "traceback": [
            "\u001b[0;31m---------------------------------------------------------------------------\u001b[0m",
            "\u001b[0;31mFileNotFoundError\u001b[0m                         Traceback (most recent call last)",
            "\u001b[0;32m<ipython-input-26-9417f736f55c>\u001b[0m in \u001b[0;36m<module>\u001b[0;34m\u001b[0m\n\u001b[0;32m----> 1\u001b[0;31m \u001b[0mfile\u001b[0m \u001b[0;34m=\u001b[0m \u001b[0mopen\u001b[0m\u001b[0;34m(\u001b[0m\u001b[0;34m\"my_file.txt\"\u001b[0m\u001b[0;34m,\u001b[0m \u001b[0;34m\"r\"\u001b[0m\u001b[0;34m)\u001b[0m\u001b[0;34m\u001b[0m\u001b[0;34m\u001b[0m\u001b[0m\n\u001b[0m\u001b[1;32m      2\u001b[0m \u001b[0mprint\u001b[0m\u001b[0;34m(\u001b[0m\u001b[0mfile\u001b[0m\u001b[0;34m.\u001b[0m\u001b[0mread\u001b[0m\u001b[0;34m(\u001b[0m\u001b[0;34m)\u001b[0m\u001b[0;34m)\u001b[0m\u001b[0;34m\u001b[0m\u001b[0;34m\u001b[0m\u001b[0m\n\u001b[1;32m      3\u001b[0m \u001b[0mfile\u001b[0m\u001b[0;34m.\u001b[0m\u001b[0mclose\u001b[0m\u001b[0;34m(\u001b[0m\u001b[0;34m)\u001b[0m\u001b[0;34m\u001b[0m\u001b[0;34m\u001b[0m\u001b[0m\n",
            "\u001b[0;31mFileNotFoundError\u001b[0m: [Errno 2] No such file or directory: 'my_file.txt'"
          ]
        }
      ]
    },
    {
      "cell_type": "code",
      "metadata": {
        "id": "5044895d",
        "outputId": "1d7f4000-936d-47f2-f544-5991270e9f6c"
      },
      "source": [
        "try :\n",
        "    file = open(\"my_file.txt\", \"r\")\n",
        "    print(file.read())\n",
        "    file.close()\n",
        "except FileNotFoundError:\n",
        "    print(\"There is not such a file or the path is incorrect.\")"
      ],
      "id": "5044895d",
      "execution_count": null,
      "outputs": [
        {
          "name": "stdout",
          "output_type": "stream",
          "text": [
            "There is not such a file or the path is incorrect.\n"
          ]
        }
      ]
    },
    {
      "cell_type": "code",
      "metadata": {
        "id": "398e9152",
        "outputId": "b977d3df-1f9e-4729-bab5-4d9353a2e84d"
      },
      "source": [
        "try :\n",
        "    a = 4 + \"4\"\n",
        "    file = open(\"my_file.txt\", \"r\")\n",
        "    print(file.read())\n",
        "    file.close()\n",
        "except FileNotFoundError:\n",
        "    print(\"There is not such a file or the path is incorrect.\")"
      ],
      "id": "398e9152",
      "execution_count": null,
      "outputs": [
        {
          "ename": "TypeError",
          "evalue": "unsupported operand type(s) for +: 'int' and 'str'",
          "output_type": "error",
          "traceback": [
            "\u001b[0;31m---------------------------------------------------------------------------\u001b[0m",
            "\u001b[0;31mTypeError\u001b[0m                                 Traceback (most recent call last)",
            "\u001b[0;32m<ipython-input-28-10df3c9dd65d>\u001b[0m in \u001b[0;36m<module>\u001b[0;34m\u001b[0m\n\u001b[1;32m      1\u001b[0m \u001b[0;32mtry\u001b[0m \u001b[0;34m:\u001b[0m\u001b[0;34m\u001b[0m\u001b[0;34m\u001b[0m\u001b[0m\n\u001b[0;32m----> 2\u001b[0;31m     \u001b[0ma\u001b[0m \u001b[0;34m=\u001b[0m \u001b[0;36m4\u001b[0m \u001b[0;34m+\u001b[0m \u001b[0;34m\"4\"\u001b[0m\u001b[0;34m\u001b[0m\u001b[0;34m\u001b[0m\u001b[0m\n\u001b[0m\u001b[1;32m      3\u001b[0m     \u001b[0mfile\u001b[0m \u001b[0;34m=\u001b[0m \u001b[0mopen\u001b[0m\u001b[0;34m(\u001b[0m\u001b[0;34m\"my_file.txt\"\u001b[0m\u001b[0;34m,\u001b[0m \u001b[0;34m\"r\"\u001b[0m\u001b[0;34m)\u001b[0m\u001b[0;34m\u001b[0m\u001b[0;34m\u001b[0m\u001b[0m\n\u001b[1;32m      4\u001b[0m     \u001b[0mprint\u001b[0m\u001b[0;34m(\u001b[0m\u001b[0mfile\u001b[0m\u001b[0;34m.\u001b[0m\u001b[0mread\u001b[0m\u001b[0;34m(\u001b[0m\u001b[0;34m)\u001b[0m\u001b[0;34m)\u001b[0m\u001b[0;34m\u001b[0m\u001b[0;34m\u001b[0m\u001b[0m\n\u001b[1;32m      5\u001b[0m     \u001b[0mfile\u001b[0m\u001b[0;34m.\u001b[0m\u001b[0mclose\u001b[0m\u001b[0;34m(\u001b[0m\u001b[0;34m)\u001b[0m\u001b[0;34m\u001b[0m\u001b[0;34m\u001b[0m\u001b[0m\n",
            "\u001b[0;31mTypeError\u001b[0m: unsupported operand type(s) for +: 'int' and 'str'"
          ]
        }
      ]
    },
    {
      "cell_type": "code",
      "metadata": {
        "id": "267bb3ad",
        "outputId": "0e10371f-b67f-4697-f277-1e5497453889"
      },
      "source": [
        "try :\n",
        "    a = 4 + \"4\"\n",
        "    file = open(\"my_file.txt\", \"r\")\n",
        "    print(file.read())\n",
        "    file.close()\n",
        "except FileNotFoundError:\n",
        "    print(\"There is not such a file or the path is incorrect.\")\n",
        "    \n",
        "except TypeError:\n",
        "    print(\"The type is incorrect\")"
      ],
      "id": "267bb3ad",
      "execution_count": null,
      "outputs": [
        {
          "name": "stdout",
          "output_type": "stream",
          "text": [
            "The type is incorrect\n"
          ]
        }
      ]
    },
    {
      "cell_type": "code",
      "metadata": {
        "id": "fc7cbcd7",
        "outputId": "7839da51-aebb-453b-b7eb-aafcb4e23425"
      },
      "source": [
        "try :\n",
        "    sonuc = \"4\" + \"5\"\n",
        "    print(\"hello\")\n",
        "    \n",
        "except TypeError :\n",
        "    print(\"Type hatası var. Tipi kontrol etsen iyi olur.\")\n",
        "    \n",
        "else :\n",
        "    print(\"aaa demek ki. hata yükselmemiş. try içerisinde exception yok. super\", sonuc)\n",
        "    \n",
        "finally :\n",
        "    print(\"Eh nihayet bana sıra geldi. Önünde sonunda çalışırım arkadaş.\")"
      ],
      "id": "fc7cbcd7",
      "execution_count": null,
      "outputs": [
        {
          "name": "stdout",
          "output_type": "stream",
          "text": [
            "hello\n",
            "aaa demek ki. hata yükselmemiş. try içerisinde exception yok. super 45\n",
            "Eh nihayet bana sıra geldi. Önünde sonunda çalışırım arkadaş.\n"
          ]
        }
      ]
    },
    {
      "cell_type": "code",
      "metadata": {
        "id": "ba92d171",
        "outputId": "78d0a702-5189-4b3b-f0e1-322d03cddce9"
      },
      "source": [
        "try :\n",
        "    sonuc = 4 + \"5\"\n",
        "    print(\"hello\")\n",
        "    \n",
        "except TypeError :\n",
        "    print(\"Type hatası var. Tipi kontrol etsen iyi olur.\")\n",
        "    \n",
        "else :\n",
        "    print(\"aaa demek ki. hata yükselmemiş. try içerisinde exception yok. super\", sonuc)\n",
        "    \n",
        "finally :\n",
        "    print(\"Eh nihayet bana sıra geldi. Önünde sonunda çalışırım arkadaş.\")"
      ],
      "id": "ba92d171",
      "execution_count": null,
      "outputs": [
        {
          "name": "stdout",
          "output_type": "stream",
          "text": [
            "Type hatası var. Tipi kontrol etsen iyi olur.\n",
            "Eh nihayet bana sıra geldi. Önünde sonunda çalışırım arkadaş.\n"
          ]
        }
      ]
    },
    {
      "cell_type": "code",
      "metadata": {
        "id": "b759e4fd",
        "outputId": "29c83b8b-581f-4910-a96f-998745b39fcf"
      },
      "source": [
        "try :\n",
        "    print(\"hello universe\")\n",
        "    sonuc = 4 + \"5\"\n",
        "    print(\"hello\")\n",
        "    \n",
        "except TypeError :\n",
        "    print(\"Type hatası var. Tipi kontrol etsen iyi olur.\")\n",
        "    \n",
        "else :\n",
        "    print(\"aaa demek ki. hata yükselmemiş. try içerisinde exception yok. super\", sonuc)\n",
        "    \n",
        "finally :\n",
        "    print(\"Eh nihayet bana sıra geldi. Önünde sonunda çalışırım arkadaş.\")"
      ],
      "id": "b759e4fd",
      "execution_count": null,
      "outputs": [
        {
          "name": "stdout",
          "output_type": "stream",
          "text": [
            "hello universe\n",
            "Type hatası var. Tipi kontrol etsen iyi olur.\n",
            "Eh nihayet bana sıra geldi. Önünde sonunda çalışırım arkadaş.\n"
          ]
        }
      ]
    },
    {
      "cell_type": "code",
      "metadata": {
        "id": "f5c23e2d",
        "outputId": "9157cc41-725f-42d0-f3c2-12c8f74ef6d4"
      },
      "source": [
        "try :\n",
        "    print(\"hello universe\")\n",
        "    sonuc = 4 + \"5\"\n",
        "    print(\"hello\")\n",
        "    \n",
        "except ValueError :\n",
        "    print(\"Type hatası var. Tipi kontrol etsen iyi olur.\")\n",
        "    \n",
        "else :\n",
        "    print(\"aaa demek ki. hata yükselmemiş. try içerisinde exception yok. super\", sonuc)\n",
        "    \n",
        "finally :\n",
        "    print(\"Eh nihayet bana sıra geldi. Önünde sonunda çalışırım arkadaş.\")"
      ],
      "id": "f5c23e2d",
      "execution_count": null,
      "outputs": [
        {
          "name": "stdout",
          "output_type": "stream",
          "text": [
            "hello universe\n",
            "Eh nihayet bana sıra geldi. Önünde sonunda çalışırım arkadaş.\n"
          ]
        },
        {
          "ename": "TypeError",
          "evalue": "unsupported operand type(s) for +: 'int' and 'str'",
          "output_type": "error",
          "traceback": [
            "\u001b[0;31m---------------------------------------------------------------------------\u001b[0m",
            "\u001b[0;31mTypeError\u001b[0m                                 Traceback (most recent call last)",
            "\u001b[0;32m<ipython-input-33-4141a34983da>\u001b[0m in \u001b[0;36m<module>\u001b[0;34m\u001b[0m\n\u001b[1;32m      1\u001b[0m \u001b[0;32mtry\u001b[0m \u001b[0;34m:\u001b[0m\u001b[0;34m\u001b[0m\u001b[0;34m\u001b[0m\u001b[0m\n\u001b[1;32m      2\u001b[0m     \u001b[0mprint\u001b[0m\u001b[0;34m(\u001b[0m\u001b[0;34m\"hello universe\"\u001b[0m\u001b[0;34m)\u001b[0m\u001b[0;34m\u001b[0m\u001b[0;34m\u001b[0m\u001b[0m\n\u001b[0;32m----> 3\u001b[0;31m     \u001b[0msonuc\u001b[0m \u001b[0;34m=\u001b[0m \u001b[0;36m4\u001b[0m \u001b[0;34m+\u001b[0m \u001b[0;34m\"5\"\u001b[0m\u001b[0;34m\u001b[0m\u001b[0;34m\u001b[0m\u001b[0m\n\u001b[0m\u001b[1;32m      4\u001b[0m     \u001b[0mprint\u001b[0m\u001b[0;34m(\u001b[0m\u001b[0;34m\"hello\"\u001b[0m\u001b[0;34m)\u001b[0m\u001b[0;34m\u001b[0m\u001b[0;34m\u001b[0m\u001b[0m\n\u001b[1;32m      5\u001b[0m \u001b[0;34m\u001b[0m\u001b[0m\n",
            "\u001b[0;31mTypeError\u001b[0m: unsupported operand type(s) for +: 'int' and 'str'"
          ]
        }
      ]
    },
    {
      "cell_type": "code",
      "metadata": {
        "id": "f20df543",
        "outputId": "6d3f9b1a-8d67-46e4-adfb-8aa5733c0ec4"
      },
      "source": [
        "try :\n",
        "    print(\"hello universe\")\n",
        "    sonuc = 4 + \"5\"\n",
        "    print(\"hello\")\n",
        "    \n",
        "except :\n",
        "    print(\"Type hatası var. Tipi kontrol etsen iyi olur.\")\n",
        "    \n",
        "else :\n",
        "    print(\"aaa demek ki. hata yükselmemiş. try içerisinde exception yok. super\", sonuc)\n",
        "    \n",
        "finally :\n",
        "    print(\"Eh nihayet bana sıra geldi. Önünde sonunda çalışırım arkadaş.\")"
      ],
      "id": "f20df543",
      "execution_count": null,
      "outputs": [
        {
          "name": "stdout",
          "output_type": "stream",
          "text": [
            "hello universe\n",
            "Type hatası var. Tipi kontrol etsen iyi olur.\n",
            "Eh nihayet bana sıra geldi. Önünde sonunda çalışırım arkadaş.\n"
          ]
        }
      ]
    },
    {
      "cell_type": "code",
      "metadata": {
        "id": "e26ea50c",
        "outputId": "2e5351ab-cfbd-4ef0-b9f2-1e1b0e2d90e9"
      },
      "source": [
        "try :\n",
        "    print(\"hello universe\")\n",
        "    sonuc = 4/4\n",
        "    print(\"hello\")\n",
        "    \n",
        "except ValueError:\n",
        "    print(\"Value Error'e göre işlem yap. Code yaz.\")\n",
        "\n",
        "except TypeError:\n",
        "    print(\"Type Error'e göre işlem yap. Code yaz.\")\n",
        "    \n",
        "except ZeroDivisionError:\n",
        "    print(\"ZeroDivision Error'e göre işlem yap. Code yaz.\")\n",
        "    \n",
        "else :\n",
        "    print(\"aaa demek ki. hata yükselmemiş. try içerisinde exception yok. super\", sonuc)\n",
        "    \n",
        "finally :\n",
        "    print(\"Eh nihayet bana sıra geldi. Önünde sonunda çalışırım arkadaş.\")"
      ],
      "id": "e26ea50c",
      "execution_count": null,
      "outputs": [
        {
          "name": "stdout",
          "output_type": "stream",
          "text": [
            "hello universe\n",
            "hello\n",
            "aaa demek ki. hata yükselmemiş. try içerisinde exception yok. super 1.0\n"
          ]
        }
      ]
    },
    {
      "cell_type": "code",
      "metadata": {
        "scrolled": true,
        "id": "685a6deb",
        "outputId": "8f2c9afa-5cd3-4a2f-f6ea-50115c4e70ed"
      },
      "source": [
        "while True:\n",
        "    no_one = int(input(\"The first number please : \"))\n",
        "    no_two = int(input(\"The second number please : \"))\n",
        "    try:\n",
        "        division = no_one / no_two\n",
        "        print(\"The result of the division is : \", division)\n",
        "        break\n",
        "    except Exception as e:\n",
        "        print(\"Something went wrong...Try again.\")\n",
        "        print(\"Probably it is because of '{}' error\".format(e))\n",
        "        break"
      ],
      "id": "685a6deb",
      "execution_count": null,
      "outputs": [
        {
          "name": "stdout",
          "output_type": "stream",
          "text": [
            "The first number please : 7\n",
            "The second number please : 0\n",
            "Something went wrong...Try again.\n",
            "Probably it is because of 'division by zero' error\n"
          ]
        }
      ]
    },
    {
      "cell_type": "code",
      "metadata": {
        "id": "7fb36b4f",
        "outputId": "85e52240-05c2-47c7-9e50-07db4b5327c9"
      },
      "source": [
        "try :\n",
        "    4 + \"4\"\n",
        "except Exception as variable :\n",
        "    print(variable)"
      ],
      "id": "7fb36b4f",
      "execution_count": null,
      "outputs": [
        {
          "name": "stdout",
          "output_type": "stream",
          "text": [
            "unsupported operand type(s) for +: 'int' and 'str'\n"
          ]
        }
      ]
    },
    {
      "cell_type": "code",
      "metadata": {
        "id": "6f8d8116",
        "outputId": "7317bd67-42db-4307-f2a5-265dd7b8f0d8"
      },
      "source": [
        "4 + \"4\""
      ],
      "id": "6f8d8116",
      "execution_count": null,
      "outputs": [
        {
          "ename": "TypeError",
          "evalue": "unsupported operand type(s) for +: 'int' and 'str'",
          "output_type": "error",
          "traceback": [
            "\u001b[0;31m---------------------------------------------------------------------------\u001b[0m",
            "\u001b[0;31mTypeError\u001b[0m                                 Traceback (most recent call last)",
            "\u001b[0;32m<ipython-input-41-f027878f74dd>\u001b[0m in \u001b[0;36m<module>\u001b[0;34m\u001b[0m\n\u001b[0;32m----> 1\u001b[0;31m \u001b[0;36m4\u001b[0m \u001b[0;34m+\u001b[0m \u001b[0;34m\"4\"\u001b[0m\u001b[0;34m\u001b[0m\u001b[0;34m\u001b[0m\u001b[0m\n\u001b[0m",
            "\u001b[0;31mTypeError\u001b[0m: unsupported operand type(s) for +: 'int' and 'str'"
          ]
        }
      ]
    },
    {
      "cell_type": "code",
      "metadata": {
        "id": "aafc923a"
      },
      "source": [
        ""
      ],
      "id": "aafc923a",
      "execution_count": null,
      "outputs": []
    }
  ]
}