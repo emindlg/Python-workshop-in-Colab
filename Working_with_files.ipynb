{
  "nbformat": 4,
  "nbformat_minor": 0,
  "metadata": {
    "colab": {
      "name": "Untitled82.ipynb",
      "provenance": [],
      "authorship_tag": "ABX9TyNvaDMdCQJIJcg4AWX5CNL6",
      "include_colab_link": true
    },
    "kernelspec": {
      "name": "python3",
      "display_name": "Python 3"
    },
    "language_info": {
      "name": "python"
    }
  },
  "cells": [
    {
      "cell_type": "markdown",
      "metadata": {
        "id": "view-in-github",
        "colab_type": "text"
      },
      "source": [
        "<a href=\"https://colab.research.google.com/github/emindlg/Python-workshop-in-Colab/blob/main/Working_with_files.ipynb\" target=\"_parent\"><img src=\"https://colab.research.google.com/assets/colab-badge.svg\" alt=\"Open In Colab\"/></a>"
      ]
    },
    {
      "cell_type": "code",
      "execution_count": null,
      "metadata": {
        "id": "3Dq2T-9moF0Q"
      },
      "outputs": [],
      "source": [
        "my_file = open(\"file1.txt\")\n",
        "print(my_file)\n",
        "\n",
        "close(my_file)"
      ]
    },
    {
      "cell_type": "code",
      "source": [
        ""
      ],
      "metadata": {
        "id": "KEYegAbSpYYi"
      },
      "execution_count": null,
      "outputs": []
    },
    {
      "cell_type": "code",
      "source": [
        "my_file = open(\"first_file.txt\", encoding=\"UTF-8\") # yand kullanılan encoding, bir dosyanın nasıl kodlanacağına yönelik metodu gösteriyor"
      ],
      "metadata": {
        "id": "v0WsmyJprJxm"
      },
      "execution_count": null,
      "outputs": []
    },
    {
      "cell_type": "code",
      "source": [
        "pwd\n"
      ],
      "metadata": {
        "colab": {
          "base_uri": "https://localhost:8080/",
          "height": 35
        },
        "id": "Ey-uDMw_rT6P",
        "outputId": "a47a813c-2242-426d-c9c9-f42922021b42"
      },
      "execution_count": 5,
      "outputs": [
        {
          "output_type": "execute_result",
          "data": {
            "application/vnd.google.colaboratory.intrinsic+json": {
              "type": "string"
            },
            "text/plain": [
              "'/content'"
            ]
          },
          "metadata": {},
          "execution_count": 5
        }
      ]
    },
    {
      "cell_type": "code",
      "source": [
        "sea = open(\"fishes.txt\", \"r\")"
      ],
      "metadata": {
        "id": "ZNM1AdLK2Pc-"
      },
      "execution_count": 14,
      "outputs": []
    },
    {
      "cell_type": "code",
      "source": [
        "pwd"
      ],
      "metadata": {
        "colab": {
          "base_uri": "https://localhost:8080/",
          "height": 35
        },
        "id": "EolAs7_J2Zf1",
        "outputId": "da915683-b0b9-46f5-bf02-dc52d23e2ebb"
      },
      "execution_count": 7,
      "outputs": [
        {
          "output_type": "execute_result",
          "data": {
            "application/vnd.google.colaboratory.intrinsic+json": {
              "type": "string"
            },
            "text/plain": [
              "'/content'"
            ]
          },
          "metadata": {},
          "execution_count": 7
        }
      ]
    },
    {
      "cell_type": "code",
      "source": [
        "sea = open(\"fishes.txt\", \"r\")\n"
      ],
      "metadata": {
        "id": "VZF2T4hw2-Em"
      },
      "execution_count": 8,
      "outputs": []
    },
    {
      "cell_type": "code",
      "source": [
        "print(sea.read())"
      ],
      "metadata": {
        "colab": {
          "base_uri": "https://localhost:8080/",
          "height": 171
        },
        "id": "yWFvTJ8W3BwP",
        "outputId": "e209caa9-df16-4205-c68f-35d0eb901e97"
      },
      "execution_count": 13,
      "outputs": [
        {
          "output_type": "error",
          "ename": "ValueError",
          "evalue": "ignored",
          "traceback": [
            "\u001b[0;31m---------------------------------------------------------------------------\u001b[0m",
            "\u001b[0;31mValueError\u001b[0m                                Traceback (most recent call last)",
            "\u001b[0;32m<ipython-input-13-06fc0268a422>\u001b[0m in \u001b[0;36m<module>\u001b[0;34m()\u001b[0m\n\u001b[0;32m----> 1\u001b[0;31m \u001b[0mprint\u001b[0m\u001b[0;34m(\u001b[0m\u001b[0msea\u001b[0m\u001b[0;34m.\u001b[0m\u001b[0mread\u001b[0m\u001b[0;34m(\u001b[0m\u001b[0;34m)\u001b[0m\u001b[0;34m)\u001b[0m\u001b[0;34m\u001b[0m\u001b[0;34m\u001b[0m\u001b[0m\n\u001b[0m",
            "\u001b[0;31mValueError\u001b[0m: I/O operation on closed file."
          ]
        }
      ]
    },
    {
      "cell_type": "code",
      "source": [
        "sea.close()"
      ],
      "metadata": {
        "id": "mNa6rOA83FtG"
      },
      "execution_count": 10,
      "outputs": []
    },
    {
      "cell_type": "code",
      "source": [
        "sea = open(\"fishes.txt\", \"r\")\n",
        "\n",
        "print(sea.read(33))\n",
        "print()\n",
        "print(sea.read(12))\n",
        "print()\n",
        "print(sea.read(25))\n",
        "print()\n",
        "\n",
        "print(sea.tell())\n",
        "\n",
        "sea.close()"
      ],
      "metadata": {
        "colab": {
          "base_uri": "https://localhost:8080/"
        },
        "id": "5NcnMZYc3QGD",
        "outputId": "a716f7e8-74c2-44c5-a182-76cf4d80a23c"
      },
      "execution_count": 18,
      "outputs": [
        {
          "output_type": "stream",
          "name": "stdout",
          "text": [
            "Orca bir tür Yunustur. \n",
            "Mavi Bali\n",
            "\n",
            "na yeryüzünd\n",
            "\n",
            "e bilinen en büyük hayvan\n",
            "\n",
            "76\n"
          ]
        }
      ]
    },
    {
      "cell_type": "code",
      "source": [
        "sea = open(\"fishes.txt\", \"r\")\n",
        "\n",
        "\n",
        "print(sea.readline())\n",
        "print()\n",
        "print(sea.readline())\n",
        "print()\n",
        "print(sea.readline())\n",
        "\n",
        "sea.close()"
      ],
      "metadata": {
        "colab": {
          "base_uri": "https://localhost:8080/"
        },
        "id": "DFAZAP_r6bJG",
        "outputId": "4696e54b-8d87-4728-8d02-6cfa0b1d2435"
      },
      "execution_count": 19,
      "outputs": [
        {
          "output_type": "stream",
          "name": "stdout",
          "text": [
            "Orca bir tür Yunustur. \n",
            "\n",
            "\n",
            "Mavi Balina yeryüzünde bilinen en büyük hayvandır. \n",
            "\n",
            "\n",
            "Köpekbalıkları, Işınların (batoidler) kardeş grubudur. \n",
            "\n"
          ]
        }
      ]
    },
    {
      "cell_type": "code",
      "source": [
        "sea = open(\"fishes.txt\", \"r\")\n",
        "\n",
        "print(sea.readlines())\n",
        "\n",
        "sea.close()"
      ],
      "metadata": {
        "colab": {
          "base_uri": "https://localhost:8080/"
        },
        "id": "syF0eiZn7BQd",
        "outputId": "6e5bcfb8-cc94-46fd-aad2-ff887dd1f324"
      },
      "execution_count": 20,
      "outputs": [
        {
          "output_type": "stream",
          "name": "stdout",
          "text": [
            "['Orca bir tür Yunustur. \\n', 'Mavi Balina yeryüzünde bilinen en büyük hayvandır. \\n', 'Köpekbalıkları, Işınların (batoidler) kardeş grubudur. \\n', 'Ton Balığı 260 kg ağırlığa kadar çıkabilir. \\n', 'Kalamar ve Ahtapot aynı sınıftadır.']\n"
          ]
        }
      ]
    },
    {
      "cell_type": "code",
      "source": [
        "sea = open(\"fishes.txt\", \"r\")\n",
        "\n",
        "for x in sea:\n",
        "    print(x)\n",
        "\n",
        "\n",
        "sea.close()    "
      ],
      "metadata": {
        "colab": {
          "base_uri": "https://localhost:8080/"
        },
        "id": "O3fND1JN7zpr",
        "outputId": "c68325f3-7285-4d10-a54f-5bb421f2407c"
      },
      "execution_count": 21,
      "outputs": [
        {
          "output_type": "stream",
          "name": "stdout",
          "text": [
            "Orca bir tür Yunustur. \n",
            "\n",
            "Mavi Balina yeryüzünde bilinen en büyük hayvandır. \n",
            "\n",
            "Köpekbalıkları, Işınların (batoidler) kardeş grubudur. \n",
            "\n",
            "Ton Balığı 260 kg ağırlığa kadar çıkabilir. \n",
            "\n",
            "Kalamar ve Ahtapot aynı sınıftadır.\n"
          ]
        }
      ]
    },
    {
      "cell_type": "code",
      "source": [
        ""
      ],
      "metadata": {
        "id": "H8CXLdOG8mnr"
      },
      "execution_count": null,
      "outputs": []
    },
    {
      "cell_type": "code",
      "source": [
        "sea = open(\"fishes.txt\", \"r\")\n",
        "\n",
        "for x in sea:\n",
        "    print(x)\n",
        "\n",
        "sea.close()    "
      ],
      "metadata": {
        "colab": {
          "base_uri": "https://localhost:8080/",
          "height": 245
        },
        "id": "cH8PmoDZfST0",
        "outputId": "1884fb3b-a220-4aa4-f54a-66eac4cfddc0"
      },
      "execution_count": 5,
      "outputs": [
        {
          "output_type": "error",
          "ename": "FileNotFoundError",
          "evalue": "ignored",
          "traceback": [
            "\u001b[0;31m---------------------------------------------------------------------------\u001b[0m",
            "\u001b[0;31mFileNotFoundError\u001b[0m                         Traceback (most recent call last)",
            "\u001b[0;32m<ipython-input-5-711661570e66>\u001b[0m in \u001b[0;36m<module>\u001b[0;34m()\u001b[0m\n\u001b[0;32m----> 1\u001b[0;31m \u001b[0msea\u001b[0m \u001b[0;34m=\u001b[0m \u001b[0mopen\u001b[0m\u001b[0;34m(\u001b[0m\u001b[0;34m\"fishes.txt\"\u001b[0m\u001b[0;34m,\u001b[0m \u001b[0;34m\"r\"\u001b[0m\u001b[0;34m)\u001b[0m\u001b[0;34m\u001b[0m\u001b[0;34m\u001b[0m\u001b[0m\n\u001b[0m\u001b[1;32m      2\u001b[0m \u001b[0;34m\u001b[0m\u001b[0m\n\u001b[1;32m      3\u001b[0m \u001b[0;32mfor\u001b[0m \u001b[0mx\u001b[0m \u001b[0;32min\u001b[0m \u001b[0msea\u001b[0m\u001b[0;34m:\u001b[0m\u001b[0;34m\u001b[0m\u001b[0;34m\u001b[0m\u001b[0m\n\u001b[1;32m      4\u001b[0m     \u001b[0mprint\u001b[0m\u001b[0;34m(\u001b[0m\u001b[0mx\u001b[0m\u001b[0;34m)\u001b[0m\u001b[0;34m\u001b[0m\u001b[0;34m\u001b[0m\u001b[0m\n\u001b[1;32m      5\u001b[0m \u001b[0;34m\u001b[0m\u001b[0m\n",
            "\u001b[0;31mFileNotFoundError\u001b[0m: [Errno 2] No such file or directory: 'fishes.txt'"
          ]
        }
      ]
    },
    {
      "cell_type": "code",
      "source": [
        "with open(\"fishes.txt\", \"r\") as sea:\n",
        "    print(sea.read())"
      ],
      "metadata": {
        "colab": {
          "base_uri": "https://localhost:8080/",
          "height": 190
        },
        "id": "fbfuVMwdfumq",
        "outputId": "d94a3d4d-ffe0-4071-ba1f-c81413c5359c"
      },
      "execution_count": 10,
      "outputs": [
        {
          "output_type": "error",
          "ename": "FileNotFoundError",
          "evalue": "ignored",
          "traceback": [
            "\u001b[0;31m---------------------------------------------------------------------------\u001b[0m",
            "\u001b[0;31mFileNotFoundError\u001b[0m                         Traceback (most recent call last)",
            "\u001b[0;32m<ipython-input-10-104a8e7196c7>\u001b[0m in \u001b[0;36m<module>\u001b[0;34m()\u001b[0m\n\u001b[0;32m----> 1\u001b[0;31m \u001b[0;32mwith\u001b[0m \u001b[0mopen\u001b[0m\u001b[0;34m(\u001b[0m\u001b[0;34m\"fishes.txt\"\u001b[0m\u001b[0;34m,\u001b[0m \u001b[0;34m\"r\"\u001b[0m\u001b[0;34m)\u001b[0m \u001b[0;32mas\u001b[0m \u001b[0msea\u001b[0m\u001b[0;34m:\u001b[0m\u001b[0;34m\u001b[0m\u001b[0;34m\u001b[0m\u001b[0m\n\u001b[0m\u001b[1;32m      2\u001b[0m     \u001b[0mprint\u001b[0m\u001b[0;34m(\u001b[0m\u001b[0msea\u001b[0m\u001b[0;34m.\u001b[0m\u001b[0mread\u001b[0m\u001b[0;34m(\u001b[0m\u001b[0;34m)\u001b[0m\u001b[0;34m)\u001b[0m\u001b[0;34m\u001b[0m\u001b[0;34m\u001b[0m\u001b[0m\n",
            "\u001b[0;31mFileNotFoundError\u001b[0m: [Errno 2] No such file or directory: 'fishes.txt'"
          ]
        }
      ]
    },
    {
      "cell_type": "code",
      "source": [
        "with open(\"fishes.txt\", \"r\") as sea:\n",
        "    print(sea.read())"
      ],
      "metadata": {
        "colab": {
          "base_uri": "https://localhost:8080/"
        },
        "id": "uIecNaQmkFZf",
        "outputId": "859be5ca-4eba-4b60-b93c-4f8274b6c414"
      },
      "execution_count": 17,
      "outputs": [
        {
          "output_type": "stream",
          "name": "stdout",
          "text": [
            "Orca is a kind of Dolphin.\n",
            "Blue Whale is the largest animal known on earth.\n",
            "Sharks are the sister group to the Rays (batoids).\n",
            "The Tuna Fish can weigh up to 260 kg.\n",
            "Squid and Octopus are in the same class.\n"
          ]
        }
      ]
    },
    {
      "cell_type": "code",
      "source": [
        "with open(\"fruits.csv\", \"r\", encoding=\"UTF-8\") as file:\n",
        "    print(file.read())"
      ],
      "metadata": {
        "colab": {
          "base_uri": "https://localhost:8080/"
        },
        "id": "RLzxlFHyllug",
        "outputId": "22b47e19-55f1-4fac-b4d9-96fa917e82b0"
      },
      "execution_count": 18,
      "outputs": [
        {
          "output_type": "stream",
          "name": "stdout",
          "text": [
            "no,fruit,amount\n",
            "1,Banana,4 lb\n",
            "2,Orange,5 lb\n",
            "3,Apple,2 lb\n",
            "4,Strawberry,6 lb\n",
            "5,Cherry,3 lb\n"
          ]
        }
      ]
    },
    {
      "cell_type": "code",
      "source": [
        ""
      ],
      "metadata": {
        "id": "Zt2XFs0SroIC"
      },
      "execution_count": null,
      "outputs": []
    },
    {
      "cell_type": "code",
      "source": [
        "import csv"
      ],
      "metadata": {
        "id": "ex83DmJssHKk"
      },
      "execution_count": 19,
      "outputs": []
    },
    {
      "cell_type": "code",
      "source": [
        ""
      ],
      "metadata": {
        "id": "yixXF-KIsJTk"
      },
      "execution_count": null,
      "outputs": []
    },
    {
      "cell_type": "code",
      "source": [
        "with open(\"fruits.csv\", \"r\", newline=\"\", encoding=\"UTF-8\") as file: \n",
        "    csv_rows = csv.reader(file)\n",
        "\n",
        "    for row in csv_rows:\n",
        "        print(row)"
      ],
      "metadata": {
        "colab": {
          "base_uri": "https://localhost:8080/"
        },
        "id": "voeNMUmpsK-k",
        "outputId": "0074f4ba-d6f9-45a8-c63c-b0598e8dc8a0"
      },
      "execution_count": 21,
      "outputs": [
        {
          "output_type": "stream",
          "name": "stdout",
          "text": [
            "['no', 'fruit', 'amount']\n",
            "['1', 'Banana', '4 lb']\n",
            "['2', 'Orange', '5 lb']\n",
            "['3', 'Apple', '2 lb']\n",
            "['4', 'Strawberry', '6 lb']\n",
            "['5', 'Cherry', '3 lb']\n"
          ]
        }
      ]
    },
    {
      "cell_type": "code",
      "source": [
        ""
      ],
      "metadata": {
        "id": "u5DzKK6esufn"
      },
      "execution_count": null,
      "outputs": []
    },
    {
      "cell_type": "code",
      "source": [
        ""
      ],
      "metadata": {
        "id": "YrZSnIivs2aR"
      },
      "execution_count": null,
      "outputs": []
    },
    {
      "cell_type": "code",
      "source": [
        "with open(\"fruits.csv\", \"r\", encoding=\"UTF-8\") as file: \n",
        "    csv_rows = csv.reader(file)\n",
        "\n",
        "    for row in csv_rows:\n",
        "        print(row)"
      ],
      "metadata": {
        "colab": {
          "base_uri": "https://localhost:8080/"
        },
        "id": "DeEh0vC9tOSd",
        "outputId": "016078cd-7ab1-4c56-ea2e-16796cc29fe8"
      },
      "execution_count": 22,
      "outputs": [
        {
          "output_type": "stream",
          "name": "stdout",
          "text": [
            "['no', 'fruit', 'amount']\n",
            "['1', 'Banana', '4 lb']\n",
            "['2', 'Orange', '5 lb']\n",
            "['3', 'Apple', '2 lb']\n",
            "['4', 'Strawberry', '6 lb']\n",
            "['5', 'Cherry', '3 lb']\n"
          ]
        }
      ]
    },
    {
      "cell_type": "code",
      "source": [
        ""
      ],
      "metadata": {
        "id": "Qdbj6Trjw-cR"
      },
      "execution_count": null,
      "outputs": []
    },
    {
      "cell_type": "code",
      "source": [
        ""
      ],
      "metadata": {
        "id": "qNnLe6knw-U4"
      },
      "execution_count": null,
      "outputs": []
    }
  ]
}