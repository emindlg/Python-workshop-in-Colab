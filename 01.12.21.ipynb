{
  "nbformat": 4,
  "nbformat_minor": 0,
  "metadata": {
    "colab": {
      "name": "Untitled65.ipynb",
      "provenance": [],
      "authorship_tag": "ABX9TyO4NLkwz1zP2ujQSd3UZf4o",
      "include_colab_link": true
    },
    "kernelspec": {
      "name": "python3",
      "display_name": "Python 3"
    },
    "language_info": {
      "name": "python"
    }
  },
  "cells": [
    {
      "cell_type": "markdown",
      "metadata": {
        "id": "view-in-github",
        "colab_type": "text"
      },
      "source": [
        "<a href=\"https://colab.research.google.com/github/emindlg/Python-workshop-in-Colab/blob/main/01.12.21.ipynb\" target=\"_parent\"><img src=\"https://colab.research.google.com/assets/colab-badge.svg\" alt=\"Open In Colab\"/></a>"
      ]
    },
    {
      "cell_type": "code",
      "metadata": {
        "id": "bPc38c0uEgQG"
      },
      "source": [
        "a = 13\n",
        "b = 20"
      ],
      "execution_count": null,
      "outputs": []
    },
    {
      "cell_type": "code",
      "metadata": {
        "colab": {
          "base_uri": "https://localhost:8080/"
        },
        "id": "3BkJ0jVkEpTD",
        "outputId": "6745692e-0912-489b-ddea-6588006bfc5b"
      },
      "source": [
        "if a < b:\n",
        "  print(\"a is less than b\")"
      ],
      "execution_count": null,
      "outputs": [
        {
          "output_type": "stream",
          "name": "stdout",
          "text": [
            "a is less than b\n"
          ]
        }
      ]
    },
    {
      "cell_type": "code",
      "metadata": {
        "id": "UggrDdRHE0dx"
      },
      "source": [
        "a = 20 \n",
        "b = 40"
      ],
      "execution_count": null,
      "outputs": []
    },
    {
      "cell_type": "code",
      "metadata": {
        "colab": {
          "base_uri": "https://localhost:8080/"
        },
        "id": "TUjudjjoFH0T",
        "outputId": "620614f7-7300-4abc-ab63-e7afbfffa895"
      },
      "source": [
        "if a > b:\n",
        "  print(\" a büyüktür be den\")\n",
        "\n",
        "elif b > a:\n",
        "  print(\" b büyüktür a dan\")  "
      ],
      "execution_count": null,
      "outputs": [
        {
          "output_type": "stream",
          "name": "stdout",
          "text": [
            " b büyüktür a dan\n"
          ]
        }
      ]
    },
    {
      "cell_type": "code",
      "metadata": {
        "id": "ms24S4eQFSib"
      },
      "source": [
        "a = 200\n",
        "b = 33"
      ],
      "execution_count": null,
      "outputs": []
    },
    {
      "cell_type": "code",
      "metadata": {
        "colab": {
          "base_uri": "https://localhost:8080/"
        },
        "id": "fO5FjgG5GDc5",
        "outputId": "593f2741-203d-46a6-e685-aea09b304d75"
      },
      "source": [
        "if b > a:\n",
        "  print(\" b büyüktür a dan\")\n",
        "\n",
        "elif a == b:\n",
        "  print(\" a ve b eşittir\")\n",
        "\n",
        "else:\n",
        "  print(\"a büyüktür b dan\") # eşitlik, büyüklük ya da küçüklük bildirmemize gerek yok. geri kalan tüm ihtimalleri yakalar. \n",
        "                              "
      ],
      "execution_count": null,
      "outputs": [
        {
          "output_type": "stream",
          "name": "stdout",
          "text": [
            "a büyüktür b dan\n"
          ]
        }
      ]
    },
    {
      "cell_type": "code",
      "metadata": {
        "id": "eR2q5AOhGKIC"
      },
      "source": [
        "# eğer iki condition varsa \"elif\" kullanılmasına gerek yok."
      ],
      "execution_count": null,
      "outputs": []
    },
    {
      "cell_type": "code",
      "metadata": {
        "id": "1Xu-BuRUG8g7"
      },
      "source": [
        "# Tek satırda \"if statement\" code yazılabilir."
      ],
      "execution_count": null,
      "outputs": []
    },
    {
      "cell_type": "code",
      "metadata": {
        "colab": {
          "base_uri": "https://localhost:8080/"
        },
        "id": "5uqNdajMHHfL",
        "outputId": "e823b9a4-eac3-40b4-af5f-44e9e3664fbd"
      },
      "source": [
        "if a > b:  print(\"a büyüktür b den\")"
      ],
      "execution_count": null,
      "outputs": [
        {
          "output_type": "stream",
          "name": "stdout",
          "text": [
            "a büyüktür b den\n"
          ]
        }
      ]
    },
    {
      "cell_type": "code",
      "metadata": {
        "id": "dPWtdrDWHOFL"
      },
      "source": [
        "# yeni ekleme yapıldı."
      ],
      "execution_count": null,
      "outputs": []
    }
  ]
}