{
  "cells": [
    {
      "cell_type": "markdown",
      "metadata": {
        "id": "view-in-github",
        "colab_type": "text"
      },
      "source": [
        "<a href=\"https://colab.research.google.com/github/emindlg/Python-workshop-in-Colab/blob/main/List_comprehension_20_PythonBasic_09_December_2021.ipynb\" target=\"_parent\"><img src=\"https://colab.research.google.com/assets/colab-badge.svg\" alt=\"Open In Colab\"/></a>"
      ]
    },
    {
      "cell_type": "markdown",
      "id": "406f2981",
      "metadata": {
        "id": "406f2981"
      },
      "source": [
        "<img src=\"https://docs.google.com/uc?id=14xeXxFrVRjvOoUYWn_GuyE-v84wVzrqr\" class=\"img-fluid\" alt=\"CLRWY\" width=\"400\" height=\"200\">"
      ]
    },
    {
      "cell_type": "markdown",
      "id": "22263af8",
      "metadata": {
        "id": "22263af8"
      },
      "source": [
        "<h1><p style=\"text-align: center; color:darkblue\">Python In-Class, <br>09 December 2021</p><h1>"
      ]
    },
    {
      "cell_type": "markdown",
      "id": "7a2926f8",
      "metadata": {
        "id": "7a2926f8"
      },
      "source": [
        "### show me my way, please! <img src=\"https://www.robotsepeti.com/nao-insansi-robot-platformu-v6-egitmen-educator-versiyonu-insansi-robot-softbank-robotics-9282-48-B.png\" height = \"100\" width=\"300\" alt=\"Robot\">"
      ]
    },
    {
      "cell_type": "code",
      "execution_count": null,
      "id": "ec16cc90",
      "metadata": {
        "id": "ec16cc90"
      },
      "outputs": [],
      "source": [
        "command = [\"right 20\", \"right 30\", \"left 50\", \"up 10\", \"down 20\"]"
      ]
    },
    {
      "cell_type": "code",
      "execution_count": null,
      "id": "29bd2c1a",
      "metadata": {
        "id": "29bd2c1a",
        "outputId": "31bb379d-a1cf-4fac-cb11-e46cfdfea202"
      },
      "outputs": [
        {
          "data": {
            "text/plain": [
              "['right 20', 'right 30', 'left 50', 'up 10', 'down 20']"
            ]
          },
          "execution_count": 2,
          "metadata": {},
          "output_type": "execute_result"
        }
      ],
      "source": [
        "command"
      ]
    },
    {
      "cell_type": "code",
      "execution_count": null,
      "id": "1aa9feb7",
      "metadata": {
        "id": "1aa9feb7"
      },
      "outputs": [],
      "source": [
        "x = y = 0"
      ]
    },
    {
      "cell_type": "code",
      "execution_count": null,
      "id": "5421511a",
      "metadata": {
        "id": "5421511a"
      },
      "outputs": [],
      "source": [
        "# [x, y]"
      ]
    },
    {
      "cell_type": "code",
      "execution_count": null,
      "id": "dc87c14a",
      "metadata": {
        "id": "dc87c14a",
        "outputId": "6426a7d0-eb43-4d24-a232-3007527ff207"
      },
      "outputs": [
        {
          "data": {
            "text/plain": [
              "'down 20'"
            ]
          },
          "execution_count": 5,
          "metadata": {},
          "output_type": "execute_result"
        }
      ],
      "source": [
        "command[-1]"
      ]
    },
    {
      "cell_type": "code",
      "execution_count": null,
      "id": "53ad02f2",
      "metadata": {
        "id": "53ad02f2",
        "outputId": "8e0ee7a8-7961-4fc6-b2b0-fc2d7218a593"
      },
      "outputs": [
        {
          "data": {
            "text/plain": [
              "5"
            ]
          },
          "execution_count": 6,
          "metadata": {},
          "output_type": "execute_result"
        }
      ],
      "source": [
        "len(command)"
      ]
    },
    {
      "cell_type": "code",
      "execution_count": null,
      "id": "622edb21",
      "metadata": {
        "id": "622edb21",
        "outputId": "28254a87-82aa-42e3-84bc-7113d7e1e7af"
      },
      "outputs": [
        {
          "data": {
            "text/plain": [
              "['down', '20']"
            ]
          },
          "execution_count": 7,
          "metadata": {},
          "output_type": "execute_result"
        }
      ],
      "source": [
        "command[-1].split()"
      ]
    },
    {
      "cell_type": "code",
      "execution_count": null,
      "id": "5a6b0b69",
      "metadata": {
        "id": "5a6b0b69",
        "outputId": "e465bfc9-54ef-44b6-a39d-bfba1c26513a"
      },
      "outputs": [
        {
          "data": {
            "text/plain": [
              "'right 20'"
            ]
          },
          "execution_count": 8,
          "metadata": {},
          "output_type": "execute_result"
        }
      ],
      "source": [
        "command[0]"
      ]
    },
    {
      "cell_type": "code",
      "execution_count": null,
      "id": "b5a917d1",
      "metadata": {
        "id": "b5a917d1",
        "outputId": "5a02b062-f6f8-4d79-b3e7-343204d8937c"
      },
      "outputs": [
        {
          "data": {
            "text/plain": [
              "'20'"
            ]
          },
          "execution_count": 10,
          "metadata": {},
          "output_type": "execute_result"
        }
      ],
      "source": [
        "command[0].split()[1]"
      ]
    },
    {
      "cell_type": "code",
      "execution_count": null,
      "id": "e06e985d",
      "metadata": {
        "id": "e06e985d",
        "outputId": "29e751e3-e3e1-4230-c0a7-26f0033bff05"
      },
      "outputs": [
        {
          "data": {
            "text/plain": [
              "str"
            ]
          },
          "execution_count": 11,
          "metadata": {},
          "output_type": "execute_result"
        }
      ],
      "source": [
        "type(command[0].split()[1])"
      ]
    },
    {
      "cell_type": "code",
      "execution_count": null,
      "id": "62cd09f2",
      "metadata": {
        "id": "62cd09f2",
        "outputId": "5f3fe903-b168-4a8c-d8a5-4f4aad5261fd"
      },
      "outputs": [
        {
          "data": {
            "text/plain": [
              "[0, -10]"
            ]
          },
          "execution_count": 12,
          "metadata": {},
          "output_type": "execute_result"
        }
      ],
      "source": [
        "for i in range(len(command)) :\n",
        "    if command[i].startswith(\"r\") : x = x + int(command[i].split()[1]) \n",
        "    elif command[i].startswith(\"l\") : x = x - int(command[i].split()[1])\n",
        "    elif command[i].startswith(\"u\") : y = y + int(command[i].split()[1])\n",
        "    elif command[i].startswith(\"d\") : y = y - int(command[i].split()[1])\n",
        "        \n",
        "[x, y]"
      ]
    },
    {
      "cell_type": "markdown",
      "id": "b59a20ba",
      "metadata": {
        "id": "b59a20ba"
      },
      "source": [
        "## Valid Paranthesis"
      ]
    },
    {
      "cell_type": "markdown",
      "id": "ddf89ac8",
      "metadata": {
        "id": "ddf89ac8"
      },
      "source": [
        "```\n",
        "Input        Output\n",
        "--------:    ------:\n",
        "\"()\"         True\n",
        "\"()[]{}\"     True\n",
        "\"(]\"         False\n",
        "\"([)]\"       False\n",
        "\"{[]}\"       True\n",
        "\"\"           True\n",
        "```"
      ]
    },
    {
      "cell_type": "code",
      "execution_count": null,
      "id": "988f25a8",
      "metadata": {
        "id": "988f25a8"
      },
      "outputs": [],
      "source": [
        "\"([{({})}]({}))\""
      ]
    },
    {
      "cell_type": "code",
      "execution_count": null,
      "id": "1abf0e05",
      "metadata": {
        "id": "1abf0e05"
      },
      "outputs": [],
      "source": [
        "\"([{()}]())\""
      ]
    },
    {
      "cell_type": "code",
      "execution_count": null,
      "id": "27aaab59",
      "metadata": {
        "id": "27aaab59"
      },
      "outputs": [],
      "source": [
        "\"([{}])\""
      ]
    },
    {
      "cell_type": "code",
      "execution_count": null,
      "id": "89220672",
      "metadata": {
        "id": "89220672"
      },
      "outputs": [],
      "source": [
        "\"([])\""
      ]
    },
    {
      "cell_type": "code",
      "execution_count": null,
      "id": "54f8b52e",
      "metadata": {
        "id": "54f8b52e"
      },
      "outputs": [],
      "source": [
        "\"()\""
      ]
    },
    {
      "cell_type": "code",
      "execution_count": null,
      "id": "dfc4c8fe",
      "metadata": {
        "id": "dfc4c8fe"
      },
      "outputs": [],
      "source": [
        "\"\""
      ]
    },
    {
      "cell_type": "code",
      "execution_count": null,
      "id": "bd67c9b9",
      "metadata": {
        "id": "bd67c9b9"
      },
      "outputs": [],
      "source": [
        "\"[([{({})}]({}))\""
      ]
    },
    {
      "cell_type": "code",
      "execution_count": null,
      "id": "2c0328b2",
      "metadata": {
        "id": "2c0328b2"
      },
      "outputs": [],
      "source": [
        "\"[\""
      ]
    },
    {
      "cell_type": "code",
      "execution_count": null,
      "id": "6d279b03",
      "metadata": {
        "id": "6d279b03"
      },
      "outputs": [],
      "source": [
        "x = \"[([{({})}]({}))\""
      ]
    },
    {
      "cell_type": "code",
      "execution_count": null,
      "id": "d5f18dcf",
      "metadata": {
        "id": "d5f18dcf",
        "outputId": "736b0911-3e1f-4615-c0e8-8948403871a1"
      },
      "outputs": [
        {
          "data": {
            "text/plain": [
              "'ali+deli+veli'"
            ]
          },
          "execution_count": 14,
          "metadata": {},
          "output_type": "execute_result"
        }
      ],
      "source": [
        "\"ali-deli-veli\".replace(\"-\", \"+\")"
      ]
    },
    {
      "cell_type": "code",
      "execution_count": null,
      "id": "a63a4322",
      "metadata": {
        "id": "a63a4322",
        "outputId": "92431e21-d761-46cc-b1a2-a0b5af1d8857"
      },
      "outputs": [
        {
          "data": {
            "text/plain": [
              "'ldelvel'"
            ]
          },
          "execution_count": 17,
          "metadata": {},
          "output_type": "execute_result"
        }
      ],
      "source": [
        "\"ali-deli-veli\".replace(\"-\", \"\").replace(\"a\", \"\").replace(\"i\", \"\")"
      ]
    },
    {
      "cell_type": "code",
      "execution_count": null,
      "id": "31a69d29",
      "metadata": {
        "id": "31a69d29"
      },
      "outputs": [],
      "source": [
        "def isValid(s) :\n",
        "    while \"()\" in s or \"[]\" in s or \"{}\" in s :\n",
        "        s = s.replace(\"()\", \"\").replace(\"[]\", \"\").replace(\"{}\", \"\")\n",
        "    return s == \"\""
      ]
    },
    {
      "cell_type": "code",
      "execution_count": null,
      "id": "2ab8efc3",
      "metadata": {
        "id": "2ab8efc3",
        "outputId": "04dfef0f-9558-41d7-c5d4-74e46084f076"
      },
      "outputs": [
        {
          "data": {
            "text/plain": [
              "False"
            ]
          },
          "execution_count": 19,
          "metadata": {},
          "output_type": "execute_result"
        }
      ],
      "source": [
        "isValid(x)"
      ]
    },
    {
      "cell_type": "markdown",
      "id": "372fe9ce",
      "metadata": {
        "id": "372fe9ce"
      },
      "source": [
        "## Building a Calculator using `dict` with `lambda` Expression"
      ]
    },
    {
      "cell_type": "code",
      "execution_count": null,
      "id": "46bdeaec",
      "metadata": {
        "id": "46bdeaec",
        "outputId": "a4ff86ee-d1f3-47bd-9a35-183e53816f63"
      },
      "outputs": [
        {
          "data": {
            "text/plain": [
              "9"
            ]
          },
          "execution_count": 20,
          "metadata": {},
          "output_type": "execute_result"
        }
      ],
      "source": [
        "(lambda x, y : x + y)(4, 5)"
      ]
    },
    {
      "cell_type": "code",
      "execution_count": null,
      "id": "f9d29c67",
      "metadata": {
        "id": "f9d29c67"
      },
      "outputs": [],
      "source": [
        "bir_dikşinıri = {\"ne_diyorum\" : \"sesimi_duy\",\n",
        "                 \"neden\" : [\"bilmiyorum\"]}"
      ]
    },
    {
      "cell_type": "code",
      "execution_count": null,
      "id": "d462988a",
      "metadata": {
        "id": "d462988a",
        "outputId": "357705e0-8322-484d-fce7-ca8407f6f7e9"
      },
      "outputs": [
        {
          "data": {
            "text/plain": [
              "['bilmiyorum']"
            ]
          },
          "execution_count": 22,
          "metadata": {},
          "output_type": "execute_result"
        }
      ],
      "source": [
        "bir_dikşinıri[\"neden\"]"
      ]
    },
    {
      "cell_type": "code",
      "execution_count": null,
      "id": "1553b6cb",
      "metadata": {
        "id": "1553b6cb",
        "outputId": "25f22cd6-c120-4af8-84d2-f696ad0270ac"
      },
      "outputs": [
        {
          "data": {
            "text/plain": [
              "<function __main__.<lambda>(x, y)>"
            ]
          },
          "execution_count": 26,
          "metadata": {},
          "output_type": "execute_result"
        }
      ],
      "source": [
        "(lambda x, y : x + y)"
      ]
    },
    {
      "cell_type": "code",
      "execution_count": null,
      "id": "0d159161",
      "metadata": {
        "id": "0d159161"
      },
      "outputs": [],
      "source": [
        "calculator = {\"+\" : (lambda x, y : x + y),\n",
        "              \"-\" : (lambda x, y : x - y),\n",
        "              \"*\" : (lambda x, y : x * y),\n",
        "              \"/\" : (lambda x, y : x / y)}"
      ]
    },
    {
      "cell_type": "code",
      "execution_count": null,
      "id": "4623b7e2",
      "metadata": {
        "id": "4623b7e2",
        "outputId": "ddb21997-f14f-4400-cf7c-c29eade41d62"
      },
      "outputs": [
        {
          "data": {
            "text/plain": [
              "<function __main__.<lambda>(x, y)>"
            ]
          },
          "execution_count": 25,
          "metadata": {},
          "output_type": "execute_result"
        }
      ],
      "source": [
        "calculator[\"+\"]"
      ]
    },
    {
      "cell_type": "code",
      "execution_count": null,
      "id": "cbcc3086",
      "metadata": {
        "id": "cbcc3086",
        "outputId": "a2471b9a-0f8e-4fb7-804c-fdd3acb91197"
      },
      "outputs": [
        {
          "data": {
            "text/plain": [
              "9"
            ]
          },
          "execution_count": 27,
          "metadata": {},
          "output_type": "execute_result"
        }
      ],
      "source": [
        "calculator[\"+\"](4, 5)"
      ]
    },
    {
      "cell_type": "code",
      "execution_count": null,
      "id": "88629665",
      "metadata": {
        "id": "88629665",
        "outputId": "e1f83cdb-1cf4-4f49-989f-b0f31ab183dc"
      },
      "outputs": [
        {
          "data": {
            "text/plain": [
              "10.0"
            ]
          },
          "execution_count": 28,
          "metadata": {},
          "output_type": "execute_result"
        }
      ],
      "source": [
        "calculator[\"/\"](20, 2)"
      ]
    },
    {
      "cell_type": "code",
      "execution_count": null,
      "id": "5d7428db",
      "metadata": {
        "id": "5d7428db"
      },
      "outputs": [],
      "source": [
        "import random"
      ]
    },
    {
      "cell_type": "code",
      "execution_count": null,
      "id": "8c0874cd",
      "metadata": {
        "id": "8c0874cd",
        "outputId": "d93dd958-9334-4eed-c1e3-1b6e718a5d09"
      },
      "outputs": [
        {
          "data": {
            "text/plain": [
              "24"
            ]
          },
          "execution_count": 30,
          "metadata": {},
          "output_type": "execute_result"
        }
      ],
      "source": [
        "random.randint(10,30)"
      ]
    },
    {
      "cell_type": "code",
      "execution_count": null,
      "id": "8c9fdcf2",
      "metadata": {
        "id": "8c9fdcf2",
        "outputId": "4b627f3c-7451-48b1-b3ee-2868b4befcd5"
      },
      "outputs": [
        {
          "data": {
            "text/plain": [
              "'o'"
            ]
          },
          "execution_count": 33,
          "metadata": {},
          "output_type": "execute_result"
        }
      ],
      "source": [
        "chr(111)"
      ]
    },
    {
      "cell_type": "code",
      "execution_count": null,
      "id": "05393cf9",
      "metadata": {
        "id": "05393cf9",
        "outputId": "df66a3cc-5120-4084-c1e2-80398335497d"
      },
      "outputs": [
        {
          "data": {
            "text/plain": [
              "'W'"
            ]
          },
          "execution_count": 35,
          "metadata": {},
          "output_type": "execute_result"
        }
      ],
      "source": [
        "chr(random.randint(65, 90))"
      ]
    },
    {
      "cell_type": "code",
      "execution_count": null,
      "id": "be0905e2",
      "metadata": {
        "id": "be0905e2",
        "outputId": "a5f5caff-67b4-4488-c081-bff9af53e178"
      },
      "outputs": [
        {
          "data": {
            "text/plain": [
              "'i'"
            ]
          },
          "execution_count": 36,
          "metadata": {},
          "output_type": "execute_result"
        }
      ],
      "source": [
        "chr(random.randint(97, 122))"
      ]
    },
    {
      "cell_type": "code",
      "execution_count": null,
      "id": "d6642732",
      "metadata": {
        "id": "d6642732",
        "outputId": "c012acd2-504e-4a8a-fb6b-a58a603982c5"
      },
      "outputs": [
        {
          "data": {
            "text/plain": [
              "'2'"
            ]
          },
          "execution_count": 37,
          "metadata": {},
          "output_type": "execute_result"
        }
      ],
      "source": [
        "chr(random.randint(48, 57))"
      ]
    },
    {
      "cell_type": "code",
      "execution_count": null,
      "id": "d72bc36f",
      "metadata": {
        "id": "d72bc36f"
      },
      "outputs": [],
      "source": [
        "chr(random.randint(65, 90))"
      ]
    },
    {
      "cell_type": "code",
      "execution_count": null,
      "id": "33983294",
      "metadata": {
        "id": "33983294",
        "outputId": "1c2cb8fb-b0bb-45a5-97c3-0fbe8fdc6f8b"
      },
      "outputs": [
        {
          "data": {
            "text/plain": [
              "','"
            ]
          },
          "execution_count": 38,
          "metadata": {},
          "output_type": "execute_result"
        }
      ],
      "source": [
        "chr(random.randint(33, 47))"
      ]
    },
    {
      "cell_type": "code",
      "execution_count": null,
      "id": "dc891ae1",
      "metadata": {
        "id": "dc891ae1",
        "outputId": "1f59c9d3-1fa0-4265-a2b0-0154a5a7ca73"
      },
      "outputs": [
        {
          "data": {
            "text/plain": [
              "';'"
            ]
          },
          "execution_count": 39,
          "metadata": {},
          "output_type": "execute_result"
        }
      ],
      "source": [
        "chr(random.randint(58, 64))"
      ]
    },
    {
      "cell_type": "code",
      "execution_count": null,
      "id": "532da5e8",
      "metadata": {
        "id": "532da5e8",
        "outputId": "9e315be3-2bd0-4b89-9c6e-76ce3459ef27"
      },
      "outputs": [
        {
          "data": {
            "text/plain": [
              "['U', 'P', 'Q']"
            ]
          },
          "execution_count": 43,
          "metadata": {},
          "output_type": "execute_result"
        }
      ],
      "source": [
        "uppers = [chr(random.randint(65, 90)) for i in range(3)]\n",
        "uppers"
      ]
    },
    {
      "cell_type": "code",
      "execution_count": null,
      "id": "e0697f67",
      "metadata": {
        "id": "e0697f67",
        "outputId": "80434ebb-53e0-4145-f278-a2fe607e9ca0"
      },
      "outputs": [
        {
          "data": {
            "text/plain": [
              "['g', 'y', 'm']"
            ]
          },
          "execution_count": 47,
          "metadata": {},
          "output_type": "execute_result"
        }
      ],
      "source": [
        "lowers = [chr(random.randint(97, 122)) for i in range(3)]\n",
        "lowers"
      ]
    },
    {
      "cell_type": "code",
      "execution_count": null,
      "id": "e06fe676",
      "metadata": {
        "id": "e06fe676",
        "outputId": "af383d4f-1d1a-4e53-fab2-45863d5e46a0"
      },
      "outputs": [
        {
          "data": {
            "text/plain": [
              "['9', '6', '6']"
            ]
          },
          "execution_count": 50,
          "metadata": {},
          "output_type": "execute_result"
        }
      ],
      "source": [
        "numbers = [chr(random.randint(48,57)) for i in range(3)]\n",
        "numbers"
      ]
    },
    {
      "cell_type": "code",
      "execution_count": null,
      "id": "1a02c3da",
      "metadata": {
        "id": "1a02c3da",
        "outputId": "71e5ea34-2674-4c97-c99d-85cb96550598"
      },
      "outputs": [
        {
          "data": {
            "text/plain": [
              "')>'"
            ]
          },
          "execution_count": 53,
          "metadata": {},
          "output_type": "execute_result"
        }
      ],
      "source": [
        "chars = chr(random.randint(33,47))+chr(random.randint(58,64))\n",
        "chars"
      ]
    },
    {
      "cell_type": "code",
      "execution_count": null,
      "id": "42ccdf65",
      "metadata": {
        "id": "42ccdf65",
        "outputId": "fa359437-573c-4e32-c615-6fa7cf486127"
      },
      "outputs": [
        {
          "data": {
            "text/plain": [
              "'966'"
            ]
          },
          "execution_count": 59,
          "metadata": {},
          "output_type": "execute_result"
        }
      ],
      "source": [
        "\"\".join(numbers)"
      ]
    },
    {
      "cell_type": "code",
      "execution_count": null,
      "id": "c573e699",
      "metadata": {
        "id": "c573e699",
        "outputId": "f69dd16d-4438-4934-b66b-ed64faa5d853"
      },
      "outputs": [
        {
          "data": {
            "text/plain": [
              "'UPQgym966)>'"
            ]
          },
          "execution_count": 60,
          "metadata": {},
          "output_type": "execute_result"
        }
      ],
      "source": [
        "passw = \"\".join(uppers) + \"\".join(lowers) + \"\".join(numbers) + \"\".join(chars)\n",
        "passw"
      ]
    },
    {
      "cell_type": "code",
      "execution_count": null,
      "id": "d37496c9",
      "metadata": {
        "id": "d37496c9"
      },
      "outputs": [],
      "source": [
        "ornek = \"alivelideli\""
      ]
    },
    {
      "cell_type": "code",
      "execution_count": null,
      "id": "d651bb7d",
      "metadata": {
        "id": "d651bb7d"
      },
      "outputs": [],
      "source": [
        "random.shuffle()"
      ]
    },
    {
      "cell_type": "code",
      "execution_count": null,
      "id": "a7cd2732",
      "metadata": {
        "id": "a7cd2732"
      },
      "outputs": [],
      "source": [
        "ornek_list = list(ornek)"
      ]
    },
    {
      "cell_type": "code",
      "execution_count": null,
      "id": "9e3633ea",
      "metadata": {
        "id": "9e3633ea",
        "outputId": "89310cb6-d4d7-4d94-c80a-432804fa87b7"
      },
      "outputs": [
        {
          "data": {
            "text/plain": [
              "['a', 'l', 'i', 'v', 'e', 'l', 'i', 'd', 'e', 'l', 'i']"
            ]
          },
          "execution_count": 66,
          "metadata": {},
          "output_type": "execute_result"
        }
      ],
      "source": [
        "ornek_list"
      ]
    },
    {
      "cell_type": "code",
      "execution_count": null,
      "id": "7ce3b9fe",
      "metadata": {
        "id": "7ce3b9fe"
      },
      "outputs": [],
      "source": [
        "random.shuffle(ornek_list)"
      ]
    },
    {
      "cell_type": "code",
      "execution_count": null,
      "id": "eac62ee8",
      "metadata": {
        "id": "eac62ee8",
        "outputId": "0d601e73-7688-4c09-c824-e6ebf8f9da28"
      },
      "outputs": [
        {
          "data": {
            "text/plain": [
              "['e', 'l', 'i', 'i', 'l', 'v', 'd', 'i', 'e', 'a', 'l']"
            ]
          },
          "execution_count": 68,
          "metadata": {},
          "output_type": "execute_result"
        }
      ],
      "source": [
        "ornek_list"
      ]
    },
    {
      "cell_type": "code",
      "execution_count": null,
      "id": "39b0d122",
      "metadata": {
        "id": "39b0d122",
        "outputId": "76a98744-d5b8-4f1b-8734-7468aba83c36"
      },
      "outputs": [
        {
          "data": {
            "text/plain": [
              "'eliilvdieal'"
            ]
          },
          "execution_count": 72,
          "metadata": {},
          "output_type": "execute_result"
        }
      ],
      "source": [
        "\"\".join(ornek_list)"
      ]
    },
    {
      "cell_type": "code",
      "execution_count": null,
      "id": "4fbd78f7",
      "metadata": {
        "id": "4fbd78f7"
      },
      "outputs": [],
      "source": [
        "def karıştır(password) :\n",
        "    templist = list(password)\n",
        "    random.shuffle(templist)\n",
        "    return \"\".join(templist)"
      ]
    },
    {
      "cell_type": "code",
      "execution_count": null,
      "id": "c925dc30",
      "metadata": {
        "id": "c925dc30",
        "outputId": "f8f18632-7c66-415f-b049-2f21b5a71a70"
      },
      "outputs": [
        {
          "data": {
            "text/plain": [
              "'y)9U6gQ>m6P'"
            ]
          },
          "execution_count": 76,
          "metadata": {},
          "output_type": "execute_result"
        }
      ],
      "source": [
        "passw = karıştır(passw)\n",
        "passw"
      ]
    },
    {
      "cell_type": "code",
      "execution_count": null,
      "id": "08145161",
      "metadata": {
        "id": "08145161"
      },
      "outputs": [],
      "source": [
        "from timeit import timeit"
      ]
    },
    {
      "cell_type": "code",
      "execution_count": null,
      "id": "0a83dea1",
      "metadata": {
        "id": "0a83dea1"
      },
      "outputs": [],
      "source": [
        "def for_loop() :\n",
        "    \n",
        "    result = []\n",
        "    \n",
        "    for i in range(1000000) :\n",
        "        result.append(i)\n",
        "    return result"
      ]
    },
    {
      "cell_type": "code",
      "execution_count": null,
      "id": "8d7a4807",
      "metadata": {
        "id": "8d7a4807"
      },
      "outputs": [],
      "source": [
        "def list_comp() :\n",
        "    return [i for i in range(1000000)]"
      ]
    },
    {
      "cell_type": "code",
      "execution_count": null,
      "id": "9edd634b",
      "metadata": {
        "id": "9edd634b"
      },
      "outputs": [],
      "source": [
        "#size = 100\n",
        "\n",
        "time_for = timeit(for_loop, number = size)\n",
        "time_list_comp = timeit(list_comp, number = size)"
      ]
    },
    {
      "cell_type": "code",
      "execution_count": null,
      "id": "2aabdb04",
      "metadata": {
        "id": "2aabdb04",
        "outputId": "1e9ecb79-ed7f-4cbe-f000-16e7ec388f5c"
      },
      "outputs": [
        {
          "name": "stdout",
          "output_type": "stream",
          "text": [
            "List Comp. is 1.57 times faster than for loops.\n"
          ]
        }
      ],
      "source": [
        "print(f\"List Comp. is {round(time_for/time_list_comp, 2)} times faster than for loops.\")"
      ]
    },
    {
      "cell_type": "code",
      "execution_count": null,
      "id": "1f475dc3",
      "metadata": {
        "id": "1f475dc3"
      },
      "outputs": [],
      "source": [
        ""
      ]
    },
    {
      "cell_type": "code",
      "execution_count": null,
      "id": "202c2e23",
      "metadata": {
        "id": "202c2e23"
      },
      "outputs": [],
      "source": [
        ""
      ]
    }
  ],
  "metadata": {
    "kernelspec": {
      "display_name": "Python 3",
      "language": "python",
      "name": "python3"
    },
    "language_info": {
      "codemirror_mode": {
        "name": "ipython",
        "version": 3
      },
      "file_extension": ".py",
      "mimetype": "text/x-python",
      "name": "python",
      "nbconvert_exporter": "python",
      "pygments_lexer": "ipython3",
      "version": "3.8.8"
    },
    "colab": {
      "name": "20_PythonBasic_09-December-2021.ipynb",
      "provenance": [],
      "include_colab_link": true
    }
  },
  "nbformat": 4,
  "nbformat_minor": 5
}