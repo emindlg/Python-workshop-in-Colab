{
  "nbformat": 4,
  "nbformat_minor": 0,
  "metadata": {
    "colab": {
      "name": "Untitled81.ipynb",
      "provenance": [],
      "authorship_tag": "ABX9TyOI6NRN79lpq+Fa47VHNoXn",
      "include_colab_link": true
    },
    "kernelspec": {
      "name": "python3",
      "display_name": "Python 3"
    },
    "language_info": {
      "name": "python"
    }
  },
  "cells": [
    {
      "cell_type": "markdown",
      "metadata": {
        "id": "view-in-github",
        "colab_type": "text"
      },
      "source": [
        "<a href=\"https://colab.research.google.com/github/emindlg/Python-workshop-in-Colab/blob/main/List_Comprehension_worksheet.ipynb\" target=\"_parent\"><img src=\"https://colab.research.google.com/assets/colab-badge.svg\" alt=\"Open In Colab\"/></a>"
      ]
    },
    {
      "cell_type": "code",
      "execution_count": 2,
      "metadata": {
        "id": "VAbBvUDUS7LB"
      },
      "outputs": [],
      "source": [
        "my_list = [1, 2, 3, 4, 5, 6]\n",
        "new_list = []"
      ]
    },
    {
      "cell_type": "code",
      "source": [
        "for x in my_list:\n",
        "    if x % 2 != 0:\n",
        "        new_list.append(x**2)\n",
        "\n",
        "print(new_list)        "
      ],
      "metadata": {
        "colab": {
          "base_uri": "https://localhost:8080/"
        },
        "id": "1rL6wDfITdkW",
        "outputId": "3913c466-de75-45e7-cfc7-a5d50800ac52"
      },
      "execution_count": 3,
      "outputs": [
        {
          "output_type": "stream",
          "name": "stdout",
          "text": [
            "[1, 9, 25]\n"
          ]
        }
      ]
    },
    {
      "cell_type": "code",
      "source": [
        "#[ expression for item in iterable ] "
      ],
      "metadata": {
        "id": "FpbTGRQ_UBDs"
      },
      "execution_count": null,
      "outputs": []
    },
    {
      "cell_type": "code",
      "source": [
        "expression/body if condition (True ise) else expression/body2"
      ],
      "metadata": {
        "id": "Xn8P3N9mUaRu"
      },
      "execution_count": null,
      "outputs": []
    },
    {
      "cell_type": "code",
      "source": [
        "[x**2 for x in my_list]"
      ],
      "metadata": {
        "colab": {
          "base_uri": "https://localhost:8080/"
        },
        "id": "e7hZ9UNpU2vb",
        "outputId": "eb908047-9d3c-45a9-b787-53529d171d1d"
      },
      "execution_count": 5,
      "outputs": [
        {
          "output_type": "execute_result",
          "data": {
            "text/plain": [
              "[1, 4, 9, 16, 25, 36]"
            ]
          },
          "metadata": {},
          "execution_count": 5
        }
      ]
    },
    {
      "cell_type": "code",
      "source": [
        "[x**2 for x in my_list if x % 2 != 0 ]"
      ],
      "metadata": {
        "colab": {
          "base_uri": "https://localhost:8080/"
        },
        "id": "CN0qrHCEU-dk",
        "outputId": "1f6719af-5e5b-478d-b352-55c5efbf63ca"
      },
      "execution_count": 7,
      "outputs": [
        {
          "output_type": "execute_result",
          "data": {
            "text/plain": [
              "[1, 9, 25]"
            ]
          },
          "metadata": {},
          "execution_count": 7
        }
      ]
    },
    {
      "cell_type": "code",
      "source": [
        "for item in iterable:\n",
        "     if condition:\n",
        "         expression"
      ],
      "metadata": {
        "id": "iYXKHCJxVMXt"
      },
      "execution_count": null,
      "outputs": []
    },
    {
      "cell_type": "code",
      "source": [
        "fruits = [\"apple\", \"banana\", \"cherry\", \"kiwi\", \"mango\"]\n",
        "\n",
        "newlist = []"
      ],
      "metadata": {
        "id": "8vqAWpN0VskQ"
      },
      "execution_count": 16,
      "outputs": []
    },
    {
      "cell_type": "code",
      "source": [
        "for x in fruits:\n",
        "    if \"n\" in x:\n",
        "        newlist.append(x)\n",
        "\n",
        "print(newlist)        "
      ],
      "metadata": {
        "colab": {
          "base_uri": "https://localhost:8080/"
        },
        "id": "BPbcT29aZJ1N",
        "outputId": "aa6e425b-d3e1-49d7-c6b8-71ea83754273"
      },
      "execution_count": 15,
      "outputs": [
        {
          "output_type": "stream",
          "name": "stdout",
          "text": [
            "['banana', 'mango']\n"
          ]
        }
      ]
    },
    {
      "cell_type": "code",
      "source": [
        "for x in fruits:\n",
        "    if \"a\" in x:\n",
        "        newlist.append(x)\n",
        "\n",
        "\n",
        "print(newlist)        "
      ],
      "metadata": {
        "colab": {
          "base_uri": "https://localhost:8080/"
        },
        "id": "OHSwaYhBZiDE",
        "outputId": "0184dd62-1c86-4ebf-b198-1a6b287fb073"
      },
      "execution_count": 17,
      "outputs": [
        {
          "output_type": "stream",
          "name": "stdout",
          "text": [
            "['apple', 'banana', 'mango']\n"
          ]
        }
      ]
    },
    {
      "cell_type": "code",
      "source": [
        ""
      ],
      "metadata": {
        "id": "DcX6tE8yZ1C1"
      },
      "execution_count": null,
      "outputs": []
    },
    {
      "cell_type": "markdown",
      "source": [
        "**LİST COMPRENHENSİON:**"
      ],
      "metadata": {
        "id": "jGzAsC1nZ4TM"
      }
    },
    {
      "cell_type": "code",
      "source": [
        "fruits = [\"apple\", \"banana\", \"cherry\", \"kiwi\", \"mango\"]\n",
        "newlist1 = []"
      ],
      "metadata": {
        "id": "x5wfKJNDZ9Kk"
      },
      "execution_count": 24,
      "outputs": []
    },
    {
      "cell_type": "code",
      "source": [
        "newlist1 = [x for x in fruits if \"k\" in x]\n",
        "\n",
        "print(newlist1)"
      ],
      "metadata": {
        "colab": {
          "base_uri": "https://localhost:8080/"
        },
        "id": "ErN2J18KaC1b",
        "outputId": "1dd3d042-163f-4901-8b3f-29f10bdc1ab1"
      },
      "execution_count": 26,
      "outputs": [
        {
          "output_type": "stream",
          "name": "stdout",
          "text": [
            "['kiwi']\n"
          ]
        }
      ]
    },
    {
      "cell_type": "code",
      "source": [
        "newlist1 = [x for x in fruits if x != \"mango\"]"
      ],
      "metadata": {
        "id": "1bBMRRaocotW"
      },
      "execution_count": 27,
      "outputs": []
    },
    {
      "cell_type": "code",
      "source": [
        "print(newlist1)"
      ],
      "metadata": {
        "colab": {
          "base_uri": "https://localhost:8080/"
        },
        "id": "Vs-JiXuvdsaH",
        "outputId": "f11b9ff0-d0e6-46ee-cd32-b594dff48055"
      },
      "execution_count": 28,
      "outputs": [
        {
          "output_type": "stream",
          "name": "stdout",
          "text": [
            "['apple', 'banana', 'cherry', 'kiwi']\n"
          ]
        }
      ]
    },
    {
      "cell_type": "code",
      "source": [
        "newlist = [ x for x in range(10)]"
      ],
      "metadata": {
        "id": "iAaDcH5_du2F"
      },
      "execution_count": 29,
      "outputs": []
    },
    {
      "cell_type": "code",
      "source": [
        "newlist"
      ],
      "metadata": {
        "colab": {
          "base_uri": "https://localhost:8080/"
        },
        "id": "n2U3HOa5eOi1",
        "outputId": "90cdb437-960a-43d3-c1a4-fba0bcb0903f"
      },
      "execution_count": 30,
      "outputs": [
        {
          "output_type": "execute_result",
          "data": {
            "text/plain": [
              "[0, 1, 2, 3, 4, 5, 6, 7, 8, 9]"
            ]
          },
          "metadata": {},
          "execution_count": 30
        }
      ]
    },
    {
      "cell_type": "code",
      "source": [
        "print(newlist)"
      ],
      "metadata": {
        "colab": {
          "base_uri": "https://localhost:8080/"
        },
        "id": "vrfzOxPeeQAc",
        "outputId": "b5b999b7-ecf4-449e-c1b2-7b08a081e1e2"
      },
      "execution_count": 31,
      "outputs": [
        {
          "output_type": "stream",
          "name": "stdout",
          "text": [
            "[0, 1, 2, 3, 4, 5, 6, 7, 8, 9]\n"
          ]
        }
      ]
    },
    {
      "cell_type": "code",
      "source": [
        "newlist2 = [x for x in range(10) if x < 4]"
      ],
      "metadata": {
        "id": "NsCJ1NdHeTPN"
      },
      "execution_count": 38,
      "outputs": []
    },
    {
      "cell_type": "code",
      "source": [
        "newlist2"
      ],
      "metadata": {
        "colab": {
          "base_uri": "https://localhost:8080/"
        },
        "id": "DauhiX8DejSd",
        "outputId": "b301f2cd-3f3a-4914-b087-4553844922b9"
      },
      "execution_count": 39,
      "outputs": [
        {
          "output_type": "execute_result",
          "data": {
            "text/plain": [
              "[0, 1, 2, 3]"
            ]
          },
          "metadata": {},
          "execution_count": 39
        }
      ]
    },
    {
      "cell_type": "code",
      "source": [
        "newlist = [x.upper() for x in fruits]"
      ],
      "metadata": {
        "id": "qTgWFJLbet3E"
      },
      "execution_count": 40,
      "outputs": []
    },
    {
      "cell_type": "code",
      "source": [
        "newlist"
      ],
      "metadata": {
        "colab": {
          "base_uri": "https://localhost:8080/"
        },
        "id": "HpIjcdPWfLmM",
        "outputId": "2753c7a1-8073-4d45-c1f4-c52c1fcfc156"
      },
      "execution_count": 41,
      "outputs": [
        {
          "output_type": "execute_result",
          "data": {
            "text/plain": [
              "['APPLE', 'BANANA', 'CHERRY', 'KIWI', 'MANGO']"
            ]
          },
          "metadata": {},
          "execution_count": 41
        }
      ]
    },
    {
      "cell_type": "code",
      "source": [
        "newlist = [\"iterate edilen her bir item a istediğim çıktıyı döndürürüm\" for x in fruits]"
      ],
      "metadata": {
        "id": "xACYXEwffNGs"
      },
      "execution_count": 42,
      "outputs": []
    },
    {
      "cell_type": "code",
      "source": [
        "newlist"
      ],
      "metadata": {
        "colab": {
          "base_uri": "https://localhost:8080/"
        },
        "id": "OZJJTYdPfklk",
        "outputId": "a95f5130-28fb-496a-e847-ec1e158b7ffb"
      },
      "execution_count": 43,
      "outputs": [
        {
          "output_type": "execute_result",
          "data": {
            "text/plain": [
              "['iterate edilen her bir item a istediğim çıktıyı döndürürüm',\n",
              " 'iterate edilen her bir item a istediğim çıktıyı döndürürüm',\n",
              " 'iterate edilen her bir item a istediğim çıktıyı döndürürüm',\n",
              " 'iterate edilen her bir item a istediğim çıktıyı döndürürüm',\n",
              " 'iterate edilen her bir item a istediğim çıktıyı döndürürüm']"
            ]
          },
          "metadata": {},
          "execution_count": 43
        }
      ]
    },
    {
      "cell_type": "code",
      "source": [
        "fruits = [\"apple\", \"banana\", \"cherry\", \"kiwi\", \"mango\"]"
      ],
      "metadata": {
        "id": "tvenfKPFflzk"
      },
      "execution_count": 44,
      "outputs": []
    },
    {
      "cell_type": "code",
      "source": [
        "newlist = [x if x != \"banana\" else \"orange\" for x in fruits ]"
      ],
      "metadata": {
        "id": "NaIhvCL7f_aM"
      },
      "execution_count": 48,
      "outputs": []
    },
    {
      "cell_type": "code",
      "source": [
        "newlist"
      ],
      "metadata": {
        "colab": {
          "base_uri": "https://localhost:8080/"
        },
        "id": "PD-dQKcBg6od",
        "outputId": "7a159d45-a083-4a52-9467-de54dde70a2f"
      },
      "execution_count": 50,
      "outputs": [
        {
          "output_type": "execute_result",
          "data": {
            "text/plain": [
              "['orange', 'banana', 'orange', 'orange', 'orange']"
            ]
          },
          "metadata": {},
          "execution_count": 50
        }
      ]
    },
    {
      "cell_type": "code",
      "source": [
        "newlist = [x if x == \"banana\" else \"orange\" for x in fruits ]"
      ],
      "metadata": {
        "id": "VkTbtPAchNdL"
      },
      "execution_count": 53,
      "outputs": []
    },
    {
      "cell_type": "code",
      "source": [
        "newlist"
      ],
      "metadata": {
        "colab": {
          "base_uri": "https://localhost:8080/"
        },
        "id": "-9Zx2SmBhdMU",
        "outputId": "9720d36a-6a6d-498a-bf67-37f292fdc643"
      },
      "execution_count": 54,
      "outputs": [
        {
          "output_type": "execute_result",
          "data": {
            "text/plain": [
              "['orange', 'banana', 'orange', 'orange', 'orange']"
            ]
          },
          "metadata": {},
          "execution_count": 54
        }
      ]
    },
    {
      "cell_type": "code",
      "source": [
        "newlist"
      ],
      "metadata": {
        "colab": {
          "base_uri": "https://localhost:8080/"
        },
        "id": "OtM2prjjhXm3",
        "outputId": "82853bd9-212d-4074-f08e-dc669a9c6aa6"
      },
      "execution_count": 52,
      "outputs": [
        {
          "output_type": "execute_result",
          "data": {
            "text/plain": [
              "['apple', 'orange', 'cherry', 'kiwi', 'mango']"
            ]
          },
          "metadata": {},
          "execution_count": 52
        }
      ]
    },
    {
      "cell_type": "code",
      "source": [
        ""
      ],
      "metadata": {
        "id": "uM2iONeGhYt9"
      },
      "execution_count": null,
      "outputs": []
    }
  ]
}